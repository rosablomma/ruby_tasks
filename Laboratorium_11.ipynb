{
 "cells": [
  {
   "cell_type": "markdown",
   "metadata": {},
   "source": [
    "# Programowanie obiektowe"
   ]
  },
  {
   "cell_type": "markdown",
   "metadata": {},
   "source": [
    "## Uzasadnienie"
   ]
  },
  {
   "cell_type": "markdown",
   "metadata": {},
   "source": [
    "W zasadzie we wszystkich złożonych programach zachodzi potrzeba przesyłania i przetwarzania struktur danych, w których \n",
    "proste dane są ściśle ze sobą powiązane. Najprostszym przykładem danych tego rodzaju mogą być dane dotyczące\n",
    "pojedynczej osoby reprezentowanej w systemie, np.\n",
    "* imię\n",
    "* nazisko\n",
    "* adres e-mail.\n",
    "\n",
    "Jednym z rozwiązań dostępnych w języku Ruby, służących połączeniu tego rodzaju danych jest wykorzystanie tablicy \n",
    "asocjacyjnej. Tablica asocjacyjna (w przeciwieństwie do zwykłej tablicy) pozwala odwoływać się do swoich składowych za \n",
    "pomocą dowolnych wartości (a nie tylko liczb naturalnych, jak to ma miejsce w przypadku tablicy zwykłej). \n",
    "\n",
    "Przykładowa tablica asocjacyjna może wyglądać następująco:\n",
    "```ruby\n",
    "osoba = {name: \"Andrzej\", surname: \"Kowalski\", email: \"andrzej@kowalski.com\"}\n",
    "```\n",
    "\n",
    "W tym wypadku kluczami w tablicy asocjacyjnej są symbole. Po stworzeniu takiej tablicy możemy odwoływać się do indywidualnych\n",
    "składowych:\n",
    "```ruby\n",
    "puts osoba[:name]  #=> Andrzej\n",
    "puts osoba[:email] #=> andrzej@kowalski.com\n",
    "```"
   ]
  },
  {
   "cell_type": "code",
   "execution_count": 2,
   "metadata": {
    "collapsed": false
   },
   "outputs": [
    {
     "name": "stdout",
     "output_type": "stream",
     "text": [
      "Andrzej\n"
     ]
    }
   ],
   "source": [
    "osoba = {name: \"Andrzej\", surname: \"Kowalski\", email: \"andrzej@kowalski.com\"}\n",
    "\n",
    "puts osoba[:name]\n"
   ]
  },
  {
   "cell_type": "markdown",
   "metadata": {},
   "source": [
    "Zastosowanie tablic asocjacyjnych może wydawać się dobrym sposobem na reprezentowanie złożonych struktur danych. \n",
    "Przykładowo, możemy napisać metodę `wyswietl_wizytowke`, która akceptuje tablicę asocjacyjną reprezentującą osobę i \n",
    "wyświetla istotne informacje na temat tej osoby:\n",
    "```ruby\n",
    "def wyswietl_wizytowke(osoba)\n",
    "  puts \"-\" * 42\n",
    "  puts \"| %-38s |\" % \"#{osoba[:name][0]}. #{osoba[:surname]}\"\n",
    "  puts \"| %-38s |\" % \"e-mail: #{osoba[:email]}\"\n",
    "  puts \"-\" * 42\n",
    "end\n",
    "\n",
    "osoba1 = {name: \"Andrzej\", surname: \"Kowalski\", email: \"andrzej@kowalski.com\"}\n",
    "osoba2 = {name: \"Anna\", surname: \"Malinowska\", email: \"anna@malinowski.com\"}\n",
    "\n",
    "wyswietl_wizytowke(osoba1)\n",
    "wyswietl_wizytowke(osoba2)\n",
    "```\n"
   ]
  },
  {
   "cell_type": "code",
   "execution_count": 3,
   "metadata": {
    "collapsed": false
   },
   "outputs": [
    {
     "name": "stdout",
     "output_type": "stream",
     "text": [
      "------------------------------------------\n",
      "| A. Kowalski                            |\n",
      "| e-mail: andrzej@kowalski.com           |\n",
      "------------------------------------------\n",
      "------------------------------------------\n",
      "| A. Malinowska                          |\n",
      "| e-mail: anna@malinowski.com            |\n",
      "------------------------------------------\n"
     ]
    }
   ],
   "source": [
    "def wyswietl_wizytowke(osoba)\n",
    "  puts \"-\" * 42\n",
    "  puts \"| %-38s |\" % \"#{osoba[:name][0]}. #{osoba[:surname]}\"\n",
    "  puts \"| %-38s |\" % \"e-mail: #{osoba[:email]}\"\n",
    "  puts \"-\" * 42\n",
    "end\n",
    "\n",
    "osoba1 = {name: \"Andrzej\", surname: \"Kowalski\", email: \"andrzej@kowalski.com\"}\n",
    "osoba2 = {name: \"Anna\", surname: \"Malinowska\", email: \"anna@malinowski.com\"}\n",
    "\n",
    "wyswietl_wizytowke(osoba1)\n",
    "wyswietl_wizytowke(osoba2)"
   ]
  },
  {
   "cell_type": "markdown",
   "metadata": {},
   "source": [
    "Niestety rozwiązanie takie posiada istotne wady. Jedną z nich jest to, że nie mamy żadnej kontroli nad tym, jakie dane\n",
    "zostaną przekazane do metody `wyswietl_wizytowke`. Przykładowo możemy stworzyć tablicę asocjacyjną, który nie zawiera \n",
    "wszystkich wymaganych danych, co prowadzi do błędu:\n",
    "```ruby\n",
    "osoba3 = {surname: \"Kowalski\", email: \"andrzej@kowalski.com\"}\n",
    "wyswietl_wizytowke(osoba3)\n",
    "```"
   ]
  },
  {
   "cell_type": "code",
   "execution_count": 5,
   "metadata": {
    "collapsed": false
   },
   "outputs": [
    {
     "name": "stdout",
     "output_type": "stream",
     "text": [
      "------------------------------------------\n"
     ]
    },
    {
     "ename": "NoMethodError",
     "evalue": "undefined method `[]' for nil:NilClass",
     "output_type": "error",
     "traceback": [
      "\u001b[31mNoMethodError\u001b[0m: undefined method `[]' for nil:NilClass",
      "\u001b[37m<main>:2:in `wyswietl_wizytowke'\u001b[0m",
      "\u001b[37m<main>:1:in `<main>'\u001b[0m",
      "\u001b[37m/home/mavi/.rvm/gems/ruby-2.2.3/gems/iruby-0.2.8/lib/iruby/backend.rb:44:in `eval'\u001b[0m",
      "\u001b[37m/home/mavi/.rvm/gems/ruby-2.2.3/gems/iruby-0.2.8/lib/iruby/backend.rb:44:in `eval'\u001b[0m",
      "\u001b[37m/home/mavi/.rvm/gems/ruby-2.2.3/gems/iruby-0.2.8/lib/iruby/backend.rb:12:in `eval'\u001b[0m",
      "\u001b[37m/home/mavi/.rvm/gems/ruby-2.2.3/gems/iruby-0.2.8/lib/iruby/kernel.rb:87:in `execute_request'\u001b[0m",
      "\u001b[37m/home/mavi/.rvm/gems/ruby-2.2.3/gems/iruby-0.2.8/lib/iruby/kernel.rb:47:in `dispatch'\u001b[0m",
      "\u001b[37m/home/mavi/.rvm/gems/ruby-2.2.3/gems/iruby-0.2.8/lib/iruby/kernel.rb:37:in `run'\u001b[0m",
      "\u001b[37m/home/mavi/.rvm/gems/ruby-2.2.3/gems/iruby-0.2.8/lib/iruby/command.rb:70:in `run_kernel'\u001b[0m",
      "\u001b[37m/home/mavi/.rvm/gems/ruby-2.2.3/gems/iruby-0.2.8/lib/iruby/command.rb:34:in `run'\u001b[0m",
      "\u001b[37m/home/mavi/.rvm/gems/ruby-2.2.3/gems/iruby-0.2.8/bin/iruby:5:in `<top (required)>'\u001b[0m",
      "\u001b[37m/home/mavi/.rvm/gems/ruby-2.2.3/bin/iruby:23:in `load'\u001b[0m",
      "\u001b[37m/home/mavi/.rvm/gems/ruby-2.2.3/bin/iruby:23:in `<main>'\u001b[0m",
      "\u001b[37m/home/mavi/.rvm/gems/ruby-2.2.3/bin/ruby_executable_hooks:15:in `eval'\u001b[0m",
      "\u001b[37m/home/mavi/.rvm/gems/ruby-2.2.3/bin/ruby_executable_hooks:15:in `<main>'\u001b[0m"
     ]
    }
   ],
   "source": [
    "osoba3 = {surname: \"Kowalski\", email: \"andrzej@kowalski.com\"}\n",
    "wyswietl_wizytowke(osoba3)"
   ]
  },
  {
   "cell_type": "markdown",
   "metadata": {},
   "source": [
    "Inny problem polega na tym, że jeśli będziemy mieli dane innego typu, np. dane dotyczące firmy i będziemy chcieli stworzyć podobną metodę wyświetlającą wizytówkę dla danych firmowych, to będzimy zmuszeni do zastosowania jednego z dwóch rozwiązań:\n",
    "* dodania `typu` do tablicy asocjacyjnej, który pozwoli odróżnić jedne dane od innych,\n",
    "* użycia innej nazwy dla funkcji, której przeznaczenie jest podobne."
   ]
  },
  {
   "cell_type": "markdown",
   "metadata": {},
   "source": [
    "### Pamiętanie typu struktury"
   ]
  },
  {
   "cell_type": "markdown",
   "metadata": {},
   "source": [
    "Przyjrzyjmy się pierwszemu rozwiązaniu.\n",
    "```ruby\n",
    "def wyswietl_wizytowke(dane)\n",
    "  case dane[:type]\n",
    "  when \"osoba\"\n",
    "    pierwsza_linia = \"#{dane[:name][0]}. #{dane[:surname]}\"\n",
    "    druga_linia = \"e-mail: #{dane[:email]}\"\n",
    "  when \"firma\"\n",
    "    pierwsza_linia = \"#{dane[:name]}\"\n",
    "    druga_linia =  \"adres: #{dane[:street]}, #{dane[:city]}\"\n",
    "  end\n",
    "  puts \"-\" * 42\n",
    "  puts \"| %-38s |\" % pierwsza_linia\n",
    "  puts \"| %-38s |\" % druga_linia\n",
    "  puts \"-\" * 42\n",
    "end\n",
    "\n",
    "firma1 = {name: \"Garnki Inc.\", street: \"Blaszana 10\", city: \"Emaliowo\", type: \"firma\" }\n",
    "osoba1 = {name: \"Andrzej\", surname: \"Kowalski\", email: \"andrzej@kowalski.com\", type: \"osoba\"}\n",
    "\n",
    "wyswietl_wizytowke(osoba1)\n",
    "wyswietl_wizytowke(firma1)\n",
    "```"
   ]
  },
  {
   "cell_type": "code",
   "execution_count": 6,
   "metadata": {
    "collapsed": false
   },
   "outputs": [
    {
     "name": "stdout",
     "output_type": "stream",
     "text": [
      "------------------------------------------\n",
      "| A. Kowalski                            |\n",
      "| e-mail: andrzej@kowalski.com           |\n",
      "------------------------------------------\n",
      "------------------------------------------\n",
      "| Garnki Inc.                            |\n",
      "| adres: Blaszana 10, Emaliowo           |\n",
      "------------------------------------------\n"
     ]
    }
   ],
   "source": [
    "def wyswietl_wizytowke(dane)\n",
    "  case dane[:type]\n",
    "  when \"osoba\"\n",
    "    pierwsza_linia = \"#{dane[:name][0]}. #{dane[:surname]}\"\n",
    "    druga_linia = \"e-mail: #{dane[:email]}\"\n",
    "  when \"firma\"\n",
    "    pierwsza_linia = \"#{dane[:name]}\"\n",
    "    druga_linia =  \"adres: #{dane[:street]}, #{dane[:city]}\"\n",
    "  end\n",
    "  puts \"-\" * 42\n",
    "  puts \"| %-38s |\" % pierwsza_linia\n",
    "  puts \"| %-38s |\" % druga_linia\n",
    "  puts \"-\" * 42\n",
    "end\n",
    "\n",
    "firma1 = {name: \"Garnki Inc.\", street: \"Blaszana 10\", city: \"Emaliowo\", type: \"firma\" }\n",
    "osoba1 = {name: \"Andrzej\", surname: \"Kowalski\", email: \"andrzej@kowalski.com\", type: \"osoba\"}\n",
    "\n",
    "wyswietl_wizytowke(osoba1)\n",
    "wyswietl_wizytowke(firma1)"
   ]
  },
  {
   "cell_type": "markdown",
   "metadata": {},
   "source": [
    "Problem z tym rozwiązaniem polega na tym, że fukcja `wyswietl_wizytowke` będzie musiała być zmodyfikowana za każdym razem, kiedy będziemy chcieli dodać nowy typ danych. Jeśli takich funkcji byłoby więcej, to dodanie nowego typu danych wymagałoby modyfikacji znacznej części naszego programu. Rozwiązanie takie byłoby zatem bardzo kosztowne ze względu na rozszerzenie listy obsługiwanych\n",
    "typów. Ponadto w strukturze danych musielibyśmy za każdym razem pamiętać jej typ."
   ]
  },
  {
   "cell_type": "markdown",
   "metadata": {},
   "source": [
    "### Odmienne nazwy funkcji"
   ]
  },
  {
   "cell_type": "markdown",
   "metadata": {},
   "source": [
    "Drugie rozwiązanie wygląda następująco:\n",
    "```ruby\n",
    "def wyswietl_wizytowke_osoby(osoba)\n",
    "  puts \"-\" * 42\n",
    "  puts \"| %-38s |\" % \"#{osoba[:name][0]}. #{osoba[:surname]}\"\n",
    "  puts \"| %-38s |\" % \"e-mail: #{osoba[:email]}\"\n",
    "  puts \"-\" * 42\n",
    "end\n",
    "def wyswietl_wizytowke_firmy(firma)\n",
    "  puts \"-\" * 42\n",
    "  puts \"| %-38s |\" % \"#{firma[:name]}\"\n",
    "  puts \"| %-38s |\" % \"adres: #{firma[:street]}, #{firma[:city]}\"\n",
    "  puts \"-\" * 42\n",
    "end\n",
    "\n",
    "firma1 = {name: \"Garnki Inc.\", street: \"Blaszana 10\", city: \"Emaliowo\"}\n",
    "osoba1 = {name: \"Andrzej\", surname: \"Kowalski\", email: \"andrzej@kowalski.com\"}\n",
    "\n",
    "wyswietl_wizytowke_osoby(osoba1)\n",
    "wyswietl_wizytowke_firmy(firma1)\n",
    "```"
   ]
  },
  {
   "cell_type": "code",
   "execution_count": 7,
   "metadata": {
    "collapsed": false
   },
   "outputs": [
    {
     "name": "stdout",
     "output_type": "stream",
     "text": [
      "------------------------------------------\n",
      "| A. Kowalski                            |\n",
      "| e-mail: andrzej@kowalski.com           |\n",
      "------------------------------------------\n",
      "------------------------------------------\n",
      "| Garnki Inc.                            |\n",
      "| adres: Blaszana 10, Emaliowo           |\n",
      "------------------------------------------\n"
     ]
    }
   ],
   "source": [
    "def wyswietl_wizytowke_osoby(osoba)\n",
    "  puts \"-\" * 42\n",
    "  puts \"| %-38s |\" % \"#{osoba[:name][0]}. #{osoba[:surname]}\"\n",
    "  puts \"| %-38s |\" % \"e-mail: #{osoba[:email]}\"\n",
    "  puts \"-\" * 42\n",
    "end\n",
    "def wyswietl_wizytowke_firmy(firma)\n",
    "  puts \"-\" * 42\n",
    "  puts \"| %-38s |\" % \"#{firma[:name]}\"\n",
    "  puts \"| %-38s |\" % \"adres: #{firma[:street]}, #{firma[:city]}\"\n",
    "  puts \"-\" * 42\n",
    "end\n",
    "\n",
    "firma1 = {name: \"Garnki Inc.\", street: \"Blaszana 10\", city: \"Emaliowo\"}\n",
    "osoba1 = {name: \"Andrzej\", surname: \"Kowalski\", email: \"andrzej@kowalski.com\"}\n",
    "\n",
    "wyswietl_wizytowke_osoby(osoba1)\n",
    "wyswietl_wizytowke_firmy(firma1)"
   ]
  },
  {
   "cell_type": "markdown",
   "metadata": {},
   "source": [
    "To rozwiązanie ma pewne zalety, w stosunku do poprzedniego. W szczególności nie musimy modyfikować jednej funkcji aby obsłużyć \n",
    "nowy typ danych. Wystarczy, że dopiszemy nowe funkcje - specyficzne dla tego typu. Problem polega jednak na tym, że \n",
    "_przestrzeń nazw_ naszego programu szybko się zagęszcza. Za każdym razem, kiedy tworzymy nową funkcją dla określonego typu\n",
    "danych musimy upewnić się, że dana nazwa nie jest już zajęta przez inny typ danych. Co więcej, powinniśmy używać jakiejś\n",
    "standardowej metody do nazywania funkcji specyficznych dla konkretnego typu. To, że w praktyce tak się nie dzieje bardzo łatwo\n",
    "zilustrować na przykładzie funkcji, które w PHP służą do manipluowania łańcuchami znaków. Można wśród nich znaleźć\n",
    "następujące nazwy:\n",
    "*  addcslashes\n",
    "*  convert_cyr_string\n",
    "*  convert_uudecode\n",
    "*  count_chars\n",
    "*  implode\n",
    "*  lcfirst\n",
    "*  nl2br\n",
    "*  sha1\n",
    "*  str_getcsv\n",
    "*  str_shuffle\n",
    "*  strcasecmp\n",
    "*  strchr\n",
    "*  strrchr\n",
    "*  strlen\n",
    "\n",
    "Widać, że w nazewnictwie tych funkcji nie trzymano się żadnej konwencji i w rezultacie odnalezienie wszystkich funkcji związanych\n",
    "z łańcuchami znaków jest bardzo trudne.\n",
    "\n",
    "To rozwiązanie ma jeszcze jedno negatywną konsekwencję, którą można zilustrować następującym przykładem. Wyboraźmy sobie,\n",
    "że potrzebujemy wyświetlić wizytówki dotyczące wielu obiektów różnego typu. W pierwszym rozwiązaniu można zrobić\n",
    "to dość łatwo:\n",
    "```ruby\n",
    "dane = [\n",
    "  {name: \"Garnki Inc.\", street: \"Blaszana 10\", city: \"Emaliowo\", type: \"firma\"},\n",
    "  {name: \"Andrzej\", surname: \"Kowalski\", email: \"andrzej@kowalski.com\", type: \"osoba\"},\n",
    "  {name: \"Anna\", surname: \"Malinowska\", email: \"anna@malinowski.com\", type: \"osoba\"}\n",
    "]\n",
    "dane.each{|d| wyswietl_wizytowke(d) }\n",
    "```"
   ]
  },
  {
   "cell_type": "code",
   "execution_count": 8,
   "metadata": {
    "collapsed": false
   },
   "outputs": [
    {
     "name": "stdout",
     "output_type": "stream",
     "text": [
      "------------------------------------------\n",
      "| Garnki Inc.                            |\n",
      "| adres: Blaszana 10, Emaliowo           |\n",
      "------------------------------------------\n",
      "------------------------------------------\n",
      "| A. Kowalski                            |\n",
      "| e-mail: andrzej@kowalski.com           |\n",
      "------------------------------------------\n",
      "------------------------------------------\n",
      "| A. Malinowska                          |\n",
      "| e-mail: anna@malinowski.com            |\n",
      "------------------------------------------\n"
     ]
    },
    {
     "data": {
      "text/plain": [
       "[{:name=>\"Garnki Inc.\", :street=>\"Blaszana 10\", :city=>\"Emaliowo\", :type=>\"firma\"}, {:name=>\"Andrzej\", :surname=>\"Kowalski\", :email=>\"andrzej@kowalski.com\", :type=>\"osoba\"}, {:name=>\"Anna\", :surname=>\"Malinowska\", :email=>\"anna@malinowski.com\", :type=>\"osoba\"}]"
      ]
     },
     "execution_count": 8,
     "metadata": {},
     "output_type": "execute_result"
    }
   ],
   "source": [
    "dane = [\n",
    "  {name: \"Garnki Inc.\", street: \"Blaszana 10\", city: \"Emaliowo\", type: \"firma\"},\n",
    "  {name: \"Andrzej\", surname: \"Kowalski\", email: \"andrzej@kowalski.com\", type: \"osoba\"},\n",
    "  {name: \"Anna\", surname: \"Malinowska\", email: \"anna@malinowski.com\", type: \"osoba\"}\n",
    "]\n",
    "dane.each{|d| wyswietl_wizytowke(d) }"
   ]
  },
  {
   "cell_type": "markdown",
   "metadata": {},
   "source": [
    "Drugie podejście wymaga od nas znacznie więcej pracy - musimy bowiem wiedzieć której metody użyć. Konieczne jest również \n",
    "dodanie informacji o typie:\n",
    "```ruby\n",
    "dane = [\n",
    "  {name: \"Garnki Inc.\", street: \"Blaszana 10\", city: \"Emaliowo\", type: \"firma\"},\n",
    "  {name: \"Andrzej\", surname: \"Kowalski\", email: \"andrzej@kowalski.com\", type: \"osoba\"},\n",
    "  {name: \"Anna\", surname: \"Malinowska\", email: \"anna@malinowski.com\", type: \"osoba\"}\n",
    "]\n",
    "dane.each do |dana| \n",
    "  case dana[:type]\n",
    "  when \"osoba\"\n",
    "    wyswietl_wizytowke_osoby(d)\n",
    "  when \"firma\"\n",
    "    wyswietl_wizytowke_firmy(d)\n",
    "  end\n",
    "end\n",
    "```"
   ]
  },
  {
   "cell_type": "code",
   "execution_count": 11,
   "metadata": {
    "collapsed": false
   },
   "outputs": [
    {
     "ename": "NameError",
     "evalue": "undefined local variable or method `d' for main:Object",
     "output_type": "error",
     "traceback": [
      "\u001b[31mNameError\u001b[0m: undefined local variable or method `d' for main:Object",
      "\u001b[37m<main>:10:in `block in <main>'\u001b[0m",
      "\u001b[37m<main>:5:in `each'\u001b[0m",
      "\u001b[37m<main>:5:in `<main>'\u001b[0m",
      "\u001b[37m/home/mavi/.rvm/gems/ruby-2.2.3/gems/iruby-0.2.8/lib/iruby/backend.rb:44:in `eval'\u001b[0m",
      "\u001b[37m/home/mavi/.rvm/gems/ruby-2.2.3/gems/iruby-0.2.8/lib/iruby/backend.rb:44:in `eval'\u001b[0m",
      "\u001b[37m/home/mavi/.rvm/gems/ruby-2.2.3/gems/iruby-0.2.8/lib/iruby/backend.rb:12:in `eval'\u001b[0m",
      "\u001b[37m/home/mavi/.rvm/gems/ruby-2.2.3/gems/iruby-0.2.8/lib/iruby/kernel.rb:87:in `execute_request'\u001b[0m",
      "\u001b[37m/home/mavi/.rvm/gems/ruby-2.2.3/gems/iruby-0.2.8/lib/iruby/kernel.rb:47:in `dispatch'\u001b[0m",
      "\u001b[37m/home/mavi/.rvm/gems/ruby-2.2.3/gems/iruby-0.2.8/lib/iruby/kernel.rb:37:in `run'\u001b[0m",
      "\u001b[37m/home/mavi/.rvm/gems/ruby-2.2.3/gems/iruby-0.2.8/lib/iruby/command.rb:70:in `run_kernel'\u001b[0m",
      "\u001b[37m/home/mavi/.rvm/gems/ruby-2.2.3/gems/iruby-0.2.8/lib/iruby/command.rb:34:in `run'\u001b[0m",
      "\u001b[37m/home/mavi/.rvm/gems/ruby-2.2.3/gems/iruby-0.2.8/bin/iruby:5:in `<top (required)>'\u001b[0m",
      "\u001b[37m/home/mavi/.rvm/gems/ruby-2.2.3/bin/iruby:23:in `load'\u001b[0m",
      "\u001b[37m/home/mavi/.rvm/gems/ruby-2.2.3/bin/iruby:23:in `<main>'\u001b[0m",
      "\u001b[37m/home/mavi/.rvm/gems/ruby-2.2.3/bin/ruby_executable_hooks:15:in `eval'\u001b[0m",
      "\u001b[37m/home/mavi/.rvm/gems/ruby-2.2.3/bin/ruby_executable_hooks:15:in `<main>'\u001b[0m"
     ]
    }
   ],
   "source": [
    "dane = [\n",
    "  {name: \"Garnki Inc.\", street: \"Blaszana 10\", city: \"Emaliowo\", type: \"firma\"},\n",
    "  {name: \"Andrzej\", surname: \"Kowalski\", email: \"andrzej@kowalski.com\", type: \"osoba\"},\n",
    "  {name: \"Anna\", surname: \"Malinowska\", email: \"anna@malinowski.com\", type: \"osoba\"}\n",
    "]\n",
    "dane.each do |dana| \n",
    "  case dana[:type]\n",
    "  when \"osoba\"\n",
    "    wyswietl_wizytowke_osoby(d)\n",
    "  when \"firma\"\n",
    "    wyswietl_wizytowke_firmy(d)\n",
    "  end\n",
    "end\n"
   ]
  },
  {
   "cell_type": "markdown",
   "metadata": {},
   "source": [
    "Co więcej, jeśli przyjrzymy się implementacji funkcji `wyswietl_wizytowke_osoby` oraz `wyswietl_wizytowke_firmy` to dostrzeżemy,\n",
    "że funkcje te są do siebie bardzo podobne."
   ]
  },
  {
   "cell_type": "markdown",
   "metadata": {},
   "source": [
    "## Klasy"
   ]
  },
  {
   "cell_type": "markdown",
   "metadata": {},
   "source": [
    "Klasy, inaczej *typy definiowane przez użytkownika* pozwalają rozwiązać wyżej opisane problemy w elegancki sposób. \n",
    "Pozwalają one na definiowanie nowych typów danych, których można używać w sposób analogiczny do typów wbudowanych. Przede\n",
    "wszystkim jednak dostarczają one mechanizmu pozwalającego na uproszczenie przetwarzania danych, które są do siebie podobne.\n",
    "\n",
    "Odnosząc się do wcześniejszego przykładu - możemy zdefiniować dwa typu danych `Person` oraz `Company`, które \n",
    "posłużą do reprezentacji danych służących do reprezentowania osób oraz firm. \n",
    "\n",
    "Zaczniemy od definicji klasy `Person`:\n",
    "```ruby\n",
    "class Person\n",
    "  attr_reader :name, :surname, :email\n",
    "  \n",
    "  def initialize(name,surname,email)\n",
    "    @name = name\n",
    "    @surname = surname\n",
    "    @email = email\n",
    "  end\n",
    "end\n",
    "```\n",
    "\n",
    "Po zdefiniowaniu takiej klasy możemy tworzyć **jej instancje** (osoby) oraz odczytywać wartości jej **atrybutów**:\n",
    "```ruby\n",
    "osoba1 = Person.new(\"Andrzej\",\"Kowalski\",\"andrzej@kowalski.com\")\n",
    "puts osoba1.name + \" \" + osoba1.surname\n",
    "puts osoba1.email\n",
    "```"
   ]
  },
  {
   "cell_type": "code",
   "execution_count": 12,
   "metadata": {
    "collapsed": false
   },
   "outputs": [
    {
     "name": "stdout",
     "output_type": "stream",
     "text": [
      "Andrzej Kowalski\n",
      "andrzej@kowalski.com\n"
     ]
    }
   ],
   "source": [
    "class Person\n",
    "  attr_reader :name, :surname, :email\n",
    "\n",
    "  def initialize(name,surname,email)\n",
    "    @name = name\n",
    "    @surname = surname\n",
    "    @email = email\n",
    "  end\n",
    "end\n",
    "osoba1 = Person.new(\"Andrzej\",\"Kowalski\",\"andrzej@kowalski.com\")\n",
    "puts osoba1.name + \" \" + osoba1.surname\n",
    "puts osoba1.email\n"
   ]
  },
  {
   "cell_type": "markdown",
   "metadata": {},
   "source": [
    "### Definicja typu"
   ]
  },
  {
   "cell_type": "markdown",
   "metadata": {},
   "source": [
    "Powyższa definicja wymaga wyjaśnienia. Klasa definiowana jest za pomocą słowa kluczowego `class` i kończy się słowem `end`.\n",
    "Klasa musi również posiadać unikalną nazwę w tym przypadku `Person`:\n",
    "```ruby\n",
    "class Person\n",
    "  # ...\n",
    "end\n",
    "```\n",
    "\n",
    "Najprostsza definicja klasy składa się właśnie z dwóch linijek:\n",
    "```ruby\n",
    "class Company\n",
    "end\n",
    "```\n",
    "\n",
    "Po jej zdefiniowaniu możemy tworzyć jej obiekty, za pomocą wywołania `new`:\n",
    "\n",
    "```ruby\n",
    "firma1 = Company.new\n",
    "firma2 = Company.new\n",
    "\n",
    "puts firma1 \n",
    "puts firma2\n",
    "```"
   ]
  },
  {
   "cell_type": "code",
   "execution_count": 13,
   "metadata": {
    "collapsed": false
   },
   "outputs": [
    {
     "name": "stdout",
     "output_type": "stream",
     "text": [
      "#<Company:0x9f5c090>\n",
      "#<Company:0x9f5c07c>\n"
     ]
    }
   ],
   "source": [
    "class Company\n",
    "end\n",
    "firma1 = Company.new\n",
    "firma2 = Company.new\n",
    "\n",
    "puts firma1 \n",
    "puts firma2\n"
   ]
  },
  {
   "cell_type": "markdown",
   "metadata": {},
   "source": [
    "Każdy obiekt danej zawiera informację o swoim typie. Możemy odwołać się do niego za pomocą metody `.class`:\n",
    "```ruby\n",
    "firma1 = Company.new\n",
    "osoba1 = Person.new(\"Andrzej\",\"Kowalski\",\"andrzej@kowalski.com\")\n",
    "puts firma1.class\n",
    "puts osoba1.class\n",
    "```"
   ]
  },
  {
   "cell_type": "code",
   "execution_count": 14,
   "metadata": {
    "collapsed": false
   },
   "outputs": [
    {
     "name": "stdout",
     "output_type": "stream",
     "text": [
      "Company\n",
      "Person\n"
     ]
    }
   ],
   "source": [
    "firma1 = Company.new\n",
    "osoba1 = Person.new(\"Andrzej\",\"Kowalski\",\"andrzej@kowalski.com\")\n",
    "puts firma1.class\n",
    "puts osoba1.class\n"
   ]
  },
  {
   "cell_type": "markdown",
   "metadata": {},
   "source": [
    "Dzięki temu nie musimy dodawać pola, które pamiętałoby typ danego obiektu. Możemy również sprawdzić, czy dany obiekt \n",
    "jest instancją określonej klasy za pomocą wywołania `is_a?`:\n",
    "```ruby\n",
    "firma1 = Company.new\n",
    "puts firma1.is_a?(Company)\n",
    "puts firma1.is_a?(Person)\n",
    "```"
   ]
  },
  {
   "cell_type": "code",
   "execution_count": 15,
   "metadata": {
    "collapsed": false
   },
   "outputs": [
    {
     "name": "stdout",
     "output_type": "stream",
     "text": [
      "true\n",
      "false\n"
     ]
    }
   ],
   "source": [
    "firma1 = Company.new\n",
    "puts firma1.is_a?(Company)\n",
    "puts firma1.is_a?(Person)"
   ]
  },
  {
   "cell_type": "markdown",
   "metadata": {},
   "source": [
    "### Konstruktor"
   ]
  },
  {
   "cell_type": "markdown",
   "metadata": {},
   "source": [
    "Drugim istotnym elementem definicji klasy jest konstruktor, czyli funkcja `initialize` zdefiniowana w obrębie klasy:\n",
    "```ruby\n",
    "class Person\n",
    "  def initialize(...)\n",
    "  end\n",
    "end\n",
    "```\n",
    "Jest on wywoływany w momencie, w którym tworzony jest nowy obiekt klasy, jako pochodna wywołania `new`:\n",
    "\n",
    "```ruby\n",
    "class Company\n",
    "  def initialize\n",
    "    puts \"Tworzymy nową firmę\"\n",
    "  end\n",
    "end\n",
    "\n",
    "puts \"Przed tworzeniem nowej firmy\"\n",
    "Company.new\n",
    "puts \"Po utworzeniu nowej firmy\"\n",
    "```"
   ]
  },
  {
   "cell_type": "code",
   "execution_count": 16,
   "metadata": {
    "collapsed": false
   },
   "outputs": [
    {
     "name": "stdout",
     "output_type": "stream",
     "text": [
      "Przed tworzeniem nowej firmy\n",
      "Tworzymy nową firmę\n",
      "Po utworzeniu nowej firmy\n"
     ]
    }
   ],
   "source": [
    "class Company\n",
    "  def initialize\n",
    "    puts \"Tworzymy nową firmę\"\n",
    "  end\n",
    "end\n",
    "\n",
    "puts \"Przed tworzeniem nowej firmy\"\n",
    "Company.new\n",
    "puts \"Po utworzeniu nowej firmy\"\n"
   ]
  },
  {
   "cell_type": "markdown",
   "metadata": {},
   "source": [
    "Istnienie konstruktora gwarantuje to, że obiekt ten będzie poprawnie zainicjowany. Należy zwrócić uwagę, że funkcja ta pojawia się\n",
    "pomiędzy słowem kluczowym `class` a końcowym słowem `end`. Gdyby funkcja ta była zdefiniowana poza **ciałem** klasy, \n",
    "nie byłaby w ogóle powiązana z tą klasą. \n",
    "\n",
    "Do konstruktora zwykle przekazujemy parametry, które są \"zapamiętywane\" przez dany obiekt lub są niezbędne do jego poprawnej \n",
    "inicjalizacji. Parametry te są przekazywane do metody `initialize` z metody `new`:\n",
    "```ruby\n",
    "class Company\n",
    "  def initialize(name)\n",
    "    puts \"Tworzymy firmę o nazwie '#{name}'\"\n",
    "  end\n",
    "end\n",
    "\n",
    "Company.new(\"Garnki Inc.\")\n",
    "```"
   ]
  },
  {
   "cell_type": "code",
   "execution_count": 17,
   "metadata": {
    "collapsed": false
   },
   "outputs": [
    {
     "name": "stdout",
     "output_type": "stream",
     "text": [
      "Tworzymy firmę o nazwie 'Garnki Inc.'\n"
     ]
    },
    {
     "data": {
      "text/plain": [
       "#<Company:0xa434388>"
      ]
     },
     "execution_count": 17,
     "metadata": {},
     "output_type": "execute_result"
    }
   ],
   "source": [
    "class Company\n",
    "  def initialize(name)\n",
    "    puts \"Tworzymy firmę o nazwie '#{name}'\"\n",
    "  end\n",
    "end\n",
    "\n",
    "Company.new(\"Garnki Inc.\")"
   ]
  },
  {
   "cell_type": "markdown",
   "metadata": {},
   "source": [
    "W powyższym przykładzie wartość `Garnki Inc.` przekazywana jest do metody `initialize` i wiązana z parametrem `name`."
   ]
  },
  {
   "cell_type": "markdown",
   "metadata": {},
   "source": [
    "### Atrybuty obiektu"
   ]
  },
  {
   "cell_type": "markdown",
   "metadata": {},
   "source": [
    "Aby obiekt danej klasy \"zapamiętał\" wartość przekazną w konstruktorze, konieczne jest przypisanie jej do tzw. **atrybutów \n",
    "obiektu**. Popatrzymy najpierw na przykład, w którym nie korzystamy z atrybutów:\n",
    "\n",
    "```ruby\n",
    "class Company\n",
    "  def initialize(name)\n",
    "    puts \"Tworzymy firmę o nazwie '#{name}'\"\n",
    "  end\n",
    "\n",
    "  def nazwa_firmy\n",
    "    name\n",
    "  end\n",
    "end\n",
    "\n",
    "firma1 = Company.new(\"Garnki Inc.\")\n",
    "puts firma1.nazwa_firmy\n",
    "```"
   ]
  },
  {
   "cell_type": "code",
   "execution_count": 18,
   "metadata": {
    "collapsed": false
   },
   "outputs": [
    {
     "name": "stdout",
     "output_type": "stream",
     "text": [
      "Tworzymy firmę o nazwie 'Garnki Inc.'\n"
     ]
    },
    {
     "ename": "NameError",
     "evalue": "undefined local variable or method `name' for #<Company:0xa43f0a8>",
     "output_type": "error",
     "traceback": [
      "\u001b[31mNameError\u001b[0m: undefined local variable or method `name' for #<Company:0xa43f0a8>",
      "\u001b[37m<main>:6:in `nazwa_firmy'\u001b[0m",
      "\u001b[37m<main>:11:in `<main>'\u001b[0m",
      "\u001b[37m/home/mavi/.rvm/gems/ruby-2.2.3/gems/iruby-0.2.8/lib/iruby/backend.rb:44:in `eval'\u001b[0m",
      "\u001b[37m/home/mavi/.rvm/gems/ruby-2.2.3/gems/iruby-0.2.8/lib/iruby/backend.rb:44:in `eval'\u001b[0m",
      "\u001b[37m/home/mavi/.rvm/gems/ruby-2.2.3/gems/iruby-0.2.8/lib/iruby/backend.rb:12:in `eval'\u001b[0m",
      "\u001b[37m/home/mavi/.rvm/gems/ruby-2.2.3/gems/iruby-0.2.8/lib/iruby/kernel.rb:87:in `execute_request'\u001b[0m",
      "\u001b[37m/home/mavi/.rvm/gems/ruby-2.2.3/gems/iruby-0.2.8/lib/iruby/kernel.rb:47:in `dispatch'\u001b[0m",
      "\u001b[37m/home/mavi/.rvm/gems/ruby-2.2.3/gems/iruby-0.2.8/lib/iruby/kernel.rb:37:in `run'\u001b[0m",
      "\u001b[37m/home/mavi/.rvm/gems/ruby-2.2.3/gems/iruby-0.2.8/lib/iruby/command.rb:70:in `run_kernel'\u001b[0m",
      "\u001b[37m/home/mavi/.rvm/gems/ruby-2.2.3/gems/iruby-0.2.8/lib/iruby/command.rb:34:in `run'\u001b[0m",
      "\u001b[37m/home/mavi/.rvm/gems/ruby-2.2.3/gems/iruby-0.2.8/bin/iruby:5:in `<top (required)>'\u001b[0m",
      "\u001b[37m/home/mavi/.rvm/gems/ruby-2.2.3/bin/iruby:23:in `load'\u001b[0m",
      "\u001b[37m/home/mavi/.rvm/gems/ruby-2.2.3/bin/iruby:23:in `<main>'\u001b[0m",
      "\u001b[37m/home/mavi/.rvm/gems/ruby-2.2.3/bin/ruby_executable_hooks:15:in `eval'\u001b[0m",
      "\u001b[37m/home/mavi/.rvm/gems/ruby-2.2.3/bin/ruby_executable_hooks:15:in `<main>'\u001b[0m"
     ]
    }
   ],
   "source": [
    "class Company\n",
    "  def initialize(name)\n",
    "    puts \"Tworzymy firmę o nazwie '#{name}'\"\n",
    "  end\n",
    "\n",
    "  def nazwa_firmy\n",
    "    name\n",
    "  end\n",
    "end\n",
    "\n",
    "firma1 = Company.new(\"Garnki Inc.\")\n",
    "puts firma1.nazwa_firmy\n"
   ]
  },
  {
   "cell_type": "markdown",
   "metadata": {},
   "source": [
    "W powyższym przykładzie wystąpił błąd, ponieważ w funkcji `nazwa_firmy` odwołujemy się do zmiennej lokalnej `name`, która jest widoczna tylko w obrębie danej funkcji. Dlatego ta zmienna, choć pojawia się w funkcjach `initialize` oraz `nazwa_firmy`, w tej \n",
    "drugiej funkcji nie jest zdefiniowana. \n",
    "\n",
    "Aby rozwiązać ten problem skorzystamy z atrybutu `@name`:\n",
    "```ruby\n",
    "class Company\n",
    "  def initialize(name)\n",
    "    puts \"Tworzymy firmę o nazwie '#{name}'\"\n",
    "    @name = name\n",
    "  end\n",
    "\n",
    "  def nazwa_firmy\n",
    "    @name\n",
    "  end\n",
    "end\n",
    "\n",
    "firma1 = Company.new(\"Garnki Inc.\")\n",
    "puts firma1.nazwa_firmy\n",
    "```"
   ]
  },
  {
   "cell_type": "code",
   "execution_count": 19,
   "metadata": {
    "collapsed": false
   },
   "outputs": [
    {
     "name": "stdout",
     "output_type": "stream",
     "text": [
      "Tworzymy firmę o nazwie 'Garnki Inc.'\n",
      "Garnki Inc.\n"
     ]
    }
   ],
   "source": [
    "class Company\n",
    "  def initialize(name)\n",
    "    puts \"Tworzymy firmę o nazwie '#{name}'\"\n",
    "    @name = name\n",
    "  end\n",
    "\n",
    "  def nazwa_firmy\n",
    "    @name\n",
    "  end\n",
    "end\n",
    "\n",
    "firma1 = Company.new(\"Garnki Inc.\")\n",
    "puts firma1.nazwa_firmy\n"
   ]
  },
  {
   "cell_type": "markdown",
   "metadata": {},
   "source": [
    "Obiekt klasy `Company` \"zapamiętał\" wartość, która została mu przekazana w konstruktorze. Należy zwrócić uwagę, że każdy obiekt\n",
    "ma swój odrębny zestaw atrybutów (swoją własną pamięć):\n",
    "```ruby\n",
    "firma1 = Company.new(\"Garnki Inc.\")\n",
    "puts firma1.nazwa_firmy\n",
    "firma2 = Company.new(\"Fabryka szynszyli\")\n",
    "puts firma2.nazwa_firmy\n",
    "```"
   ]
  },
  {
   "cell_type": "code",
   "execution_count": 20,
   "metadata": {
    "collapsed": false
   },
   "outputs": [
    {
     "name": "stdout",
     "output_type": "stream",
     "text": [
      "Tworzymy firmę o nazwie 'Garnki Inc.'\n",
      "Garnki Inc.\n",
      "Tworzymy firmę o nazwie 'Fabryka szynszyli'\n",
      "Fabryka szynszyli\n"
     ]
    }
   ],
   "source": [
    "firma1 = Company.new(\"Garnki Inc.\")\n",
    "puts firma1.nazwa_firmy\n",
    "firma2 = Company.new(\"Fabryka szynszyli\")\n",
    "puts firma2.nazwa_firmy\n"
   ]
  },
  {
   "cell_type": "markdown",
   "metadata": {},
   "source": [
    "Bardzo ważną cechą atrybutów jest to, że ich wartość może się zmieniać odzwierciedlając zmiany **stanu** obiektu:\n",
    "\n",
    "```ruby\n",
    "class Company\n",
    "  def initialize(name)\n",
    "    @name = name\n",
    "  end\n",
    "\n",
    "  def nazwa_firmy\n",
    "    @name\n",
    "  end\n",
    "  \n",
    "  def rebranding(new_name)\n",
    "    @name = new_name\n",
    "  end\n",
    "end\n",
    "\n",
    "firma1 = Company.new(\"Garnki Palikota Inc.\")\n",
    "puts firma1.nazwa_firmy\n",
    "firma1.rebranding(\"Twoje Garnki Inc.\")\n",
    "puts firma1.nazwa_firmy\n",
    "```"
   ]
  },
  {
   "cell_type": "code",
   "execution_count": 21,
   "metadata": {
    "collapsed": false
   },
   "outputs": [
    {
     "name": "stdout",
     "output_type": "stream",
     "text": [
      "Garnki Palikota Inc.\n",
      "Twoje Garnki Inc.\n"
     ]
    }
   ],
   "source": [
    "class Company\n",
    "  def initialize(name)\n",
    "    @name = name\n",
    "  end\n",
    "\n",
    "  def nazwa_firmy\n",
    "    @name\n",
    "  end\n",
    "\n",
    "  def rebranding(new_name)\n",
    "    @name = new_name\n",
    "  end\n",
    "end\n",
    "\n",
    "firma1 = Company.new(\"Garnki Palikota Inc.\")\n",
    "puts firma1.nazwa_firmy\n",
    "firma1.rebranding(\"Twoje Garnki Inc.\")\n",
    "puts firma1.nazwa_firmy\n"
   ]
  },
  {
   "cell_type": "markdown",
   "metadata": {},
   "source": [
    "Warto również dodać, że w Rubim atrybuty mogą być inicjowane w dowolnej funkcji, a nie tylko w konstruktorze."
   ]
  },
  {
   "cell_type": "markdown",
   "metadata": {},
   "source": [
    "### Akcesory (metody dostępowe)"
   ]
  },
  {
   "cell_type": "markdown",
   "metadata": {},
   "source": [
    "Ponieważ odczytywanie i zapisywanie wartości atrybutów powszechnie występują w implementacji różnych klas, w Rubim można \n",
    "wykorzystać **makra**:\n",
    "* attr_reader\n",
    "* attr_writer\n",
    "* attr_accessor\n",
    "\n",
    "które tworzą metody dostępowe. Zaczniejmy od tej ostatniej:\n",
    "\n",
    "```ruby\n",
    "class Company\n",
    "  attr_accessor :name\n",
    "  def initialize(name)\n",
    "    @name = name\n",
    "  end\n",
    "end\n",
    "\n",
    "firma1 = Company.new(\"Garnki Palikota Inc.\")\n",
    "puts firma1.name\n",
    "firma1.name = \"Twoje Garnki Inc.\"\n",
    "puts firma1.name\n",
    "```"
   ]
  },
  {
   "cell_type": "code",
   "execution_count": 22,
   "metadata": {
    "collapsed": false
   },
   "outputs": [
    {
     "name": "stdout",
     "output_type": "stream",
     "text": [
      "Garnki Palikota Inc.\n",
      "Twoje Garnki Inc.\n"
     ]
    }
   ],
   "source": [
    "class Company\n",
    "  attr_accessor :name\n",
    "  def initialize(name)\n",
    "    @name = name\n",
    "  end\n",
    "end\n",
    "\n",
    "firma1 = Company.new(\"Garnki Palikota Inc.\")\n",
    "puts firma1.name\n",
    "firma1.name = \"Twoje Garnki Inc.\"\n",
    "puts firma1.name\n"
   ]
  },
  {
   "cell_type": "markdown",
   "metadata": {},
   "source": [
    "Makro `attr_accessor :name` tworzy dwie metody:\n",
    "* `name`\n",
    "* `name=`\n",
    "\n",
    "które pozwalają odpowiednio na *odczytywanie* oraz *zapisywanie* atrybutu `name`. \n",
    "Makro `attr_reader` tworzy tylko pierwszą metodę, a `attr_writer` tylko drugą metodę. Można je wykorzystać, jeśli chcemy aby\n",
    "użytkownik obiektów danej klasy nie miał nad nimi pełnej kontroli (w szczególności dotyczy to pierwszego makra, które \n",
    "uniemożliwia bezpośrednią zmienę wartości atrybutów). "
   ]
  },
  {
   "cell_type": "markdown",
   "metadata": {},
   "source": [
    "### Metody"
   ]
  },
  {
   "cell_type": "markdown",
   "metadata": {},
   "source": [
    "Metody to funkcje definiowane w obrębie klasy. Aby funkcja stała się metodą, musi być zdefniowana pomiędzy słowem `class`, \n",
    "a końcowym słowem `end`:\n",
    "\n",
    "```ruby\n",
    "class Company\n",
    "  def metoda1\n",
    "  end\n",
    "  \n",
    "  def metoda2\n",
    "  end\n",
    "  \n",
    "  def metoda3\n",
    "  end\n",
    "end\n",
    "\n",
    "def zwykla_funkcja\n",
    "end\n",
    "```\n",
    "\n",
    "Wcześniej widzieliśmy już definicjie funkcji `initialize`, `nazwa_firmy` oraz `rebranding`, które były metodami klasy `Company`.\n",
    "Funkcje mają dostęp do atrybutów obiektów. Dzięki temu pozwalają na odczytywanie oraz modyfikację *stanu* obiektu, czego przykład\n",
    "widzieliśmy w odniesieniu do funkcji `rebranding`.\n",
    "\n",
    "Bardzo ważną cechą metod jest to, że każda klasa definiuje swój zestaw metod - dzięki temu możliwe jest zdefiniowanie w\n",
    "dwóch klasach metod o tej samej nazwie, których zachowanie będzie jedank inne:\n",
    "\n",
    "```ruby\n",
    "class Animal\n",
    "  def kim_jestes?\n",
    "    puts \"Jestem zwierzątkiem\"\n",
    "  end\n",
    "end\n",
    "\n",
    "class Plant\n",
    "  def kim_jestes?\n",
    "    puts \"Jestem roślinką\"\n",
    "  end\n",
    "end\n",
    "\n",
    "istoty_zywe = []\n",
    "istoty_zywe << Animal.new\n",
    "istoty_zywe << Animal.new\n",
    "istoty_zywe << Plant.new\n",
    "\n",
    "istoty_zywe.each do |istota|\n",
    "  istota.kim_jestes?\n",
    "end\n",
    "```"
   ]
  },
  {
   "cell_type": "code",
   "execution_count": 31,
   "metadata": {
    "collapsed": false
   },
   "outputs": [],
   "source": []
  },
  {
   "cell_type": "markdown",
   "metadata": {},
   "source": [
    "Korzystając z tej własności możemy rozwiązać pierwsze z problemów, które pojawiły się w pierwszej części tego laboratorium."
   ]
  },
  {
   "cell_type": "markdown",
   "metadata": {},
   "source": [
    "### Zadanie 1"
   ]
  },
  {
   "cell_type": "markdown",
   "metadata": {},
   "source": [
    "Zdefniuj klasy `Person` oraz `Company` oraz metody `wyswietl_wizytowke`, tak by możliwe było wyświetlanie wizytówek osób oraz firm\n",
    "za pomocą tego samego wywołania: `wyswietl_wizytowke`. W efekcie powinno być możliwe uruchomienie następującego kodu:\n",
    "\n",
    "```ruby\n",
    "dane = [\n",
    "  Company.new(\"Garnki Inc.\", \"Blaszana 10\", \"Emaliowo\"),\n",
    "  Person.new(\"Andrzej\", \"Kowalski\", \"andrzej@kowalski.com\"),\n",
    "  Person.new(\"Anna\",\"Malinowska\",\"anna@malinowska.com\")\n",
    "]\n",
    "dane.each{|d| d.wyswietl_wizytowke }\n",
    "```"
   ]
  },
  {
   "cell_type": "code",
   "execution_count": 35,
   "metadata": {
    "collapsed": false
   },
   "outputs": [],
   "source": []
  },
  {
   "cell_type": "markdown",
   "metadata": {},
   "source": [
    "### Dziedziczenie"
   ]
  },
  {
   "cell_type": "markdown",
   "metadata": {},
   "source": [
    "Implementacja klas `Company` i `Person` pozwoliła uporać się z pierwszym problemem, tzn. wykorzystaniem identycznej nazwy \n",
    "metody dla różnych typów danych. Tę własność języków obiektowych nazywamy **polimorfizmem**.\n",
    "\n",
    "Pozostał jednak inny problem - metoda `wyswielt_wizytowke` w obu klasach wygląda bardzo podobnie. Klasy dostarczaję jeszcze\n",
    "jeden ważny mechanizm, który pozwala unikać pisania powtarzającego się kodu. Nazywamy go **dziedziczeniem**.\n",
    "\n",
    "Dziedziczenie jest relacją występującą pomiędzy klasami i oznaczane jest za pomocą znaku `<`, np.\n",
    "\n",
    "```ruby\n",
    "class Animal\n",
    "end\n",
    "\n",
    "class Fish < Animal\n",
    "end\n",
    "\n",
    "class Bird < Animal\n",
    "end\n",
    "```\n",
    "\n",
    "Kod ten oznacza, że klasy `Fish` oraz `Bird` dziedziczą z klasy `Animal`. Powoduje to, że wszystkie metody zdefiniowane\n",
    "w klasie `Animal` są również dostępne w tych klasach:\n",
    "\n",
    "```ruby\n",
    "fish = Fish.new\n",
    "fish.kim_jestes?\n",
    "bird = Bird.new\n",
    "bird.kim_jestes?\n",
    "```"
   ]
  },
  {
   "cell_type": "code",
   "execution_count": 39,
   "metadata": {
    "collapsed": false
   },
   "outputs": [],
   "source": []
  },
  {
   "cell_type": "markdown",
   "metadata": {},
   "source": [
    "Klasy dziedziczące mogą dodawać metody, rozszerzając zachowanie swoich obiektów:\n",
    "\n",
    "```ruby\n",
    "class Fish < Animal\n",
    "  def jak_sie_poruszasz?\n",
    "    puts \"pływam\"\n",
    "  end\n",
    "end\n",
    "\n",
    "class Bird < Animal\n",
    "  def jak_sie_poruszasz?\n",
    "    puts \"latam\"\n",
    "  end\n",
    "end\n",
    "\n",
    "fish = Fish.new\n",
    "fish.jak_sie_poruszasz?\n",
    "bird = Bird.new\n",
    "bird.jak_sie_poruszasz?\n",
    "```"
   ]
  },
  {
   "cell_type": "code",
   "execution_count": 41,
   "metadata": {
    "collapsed": false
   },
   "outputs": [],
   "source": []
  },
  {
   "cell_type": "markdown",
   "metadata": {},
   "source": [
    "Mogą też modyfikować już istniejące metody, co zmienia zachowanie ich obiektów, w stosunku do definicji które pojawiają się \n",
    "w klasie nadrzędnej:\n",
    "```ruby\n",
    "class Fish < Animal\n",
    "  def kim_jestes?\n",
    "    puts \"Jestem rybką\"\n",
    "  end\n",
    "end\n",
    "\n",
    "fish = Fish.new\n",
    "fish.kim_jestes?\n",
    "bird = Bird.new\n",
    "bird.kim_jestes?\n",
    "```"
   ]
  },
  {
   "cell_type": "code",
   "execution_count": 43,
   "metadata": {
    "collapsed": false
   },
   "outputs": [],
   "source": []
  },
  {
   "cell_type": "markdown",
   "metadata": {},
   "source": [
    "Czasami jednak chcemy aby metoda zdefiniowana w klasie nadrzędnej została *rozszerzona* w klasie dziedziczącej. \n",
    "Wykorzystujemy do tego słowo kluczowe `super`, które wywołuje tę samą metodę zdefiniowaną w klasie nadrzędnej:\n",
    "```ruby\n",
    "class Bird < Animal\n",
    "  def kim_jestes?\n",
    "    super\n",
    "    puts \"Jestem również ptaszkiem\"\n",
    "  end\n",
    "end\n",
    "\n",
    "fish = Fish.new\n",
    "fish.kim_jestes?\n",
    "bird = Bird.new\n",
    "bird.kim_jestes?\n",
    "```"
   ]
  },
  {
   "cell_type": "code",
   "execution_count": 45,
   "metadata": {
    "collapsed": false
   },
   "outputs": [],
   "source": []
  },
  {
   "cell_type": "markdown",
   "metadata": {},
   "source": [
    "### Zadanie 2"
   ]
  },
  {
   "cell_type": "markdown",
   "metadata": {},
   "source": [
    "Zdefniuj klasą `Podmiot`, która definuje metodę `wyswietl_wizytowke`. Metoda ta powinna wykorzystywać metody \n",
    "`pierwsza_linia` oraz `druga_linia` do wyświetlania zawartości wizytówki. W przypadku podmiotu obie metody powinny zwracać \n",
    "pusty łańcuch znaków. Następnie zdefiniuj klasy `Osoba` i `Firma`, które dziedziczą z klasy `Podmiot`. \n",
    "Ich konstruktory powinny wyglądać analogicznie jak w zadaniu 1. Klasy te powinny modyfikować metody `pierwsza_linia` oraz \n",
    "`druga_linia` tak aby wyświetlana była treść odpowiednia dla osoby (imię, nazwisko, email) oraz firmy (nazwa firmy i jej adres).\n",
    "W wyniku wywołania metody `wyswietl_wizytowke` powinna pojawić się wizytówka analogiczna jak w pierszej części laboratorium."
   ]
  },
  {
   "cell_type": "code",
   "execution_count": null,
   "metadata": {
    "collapsed": false
   },
   "outputs": [],
   "source": []
  }
 ],
 "metadata": {
  "kernelspec": {
   "display_name": "Ruby 2.2.3",
   "language": "ruby",
   "name": "ruby"
  },
  "language_info": {
   "file_extension": ".rb",
   "mimetype": "application/x-ruby",
   "name": "ruby",
   "version": "2.2.3"
  }
 },
 "nbformat": 4,
 "nbformat_minor": 0
}
