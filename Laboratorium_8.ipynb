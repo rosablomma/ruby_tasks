{
 "cells": [
  {
   "cell_type": "markdown",
   "metadata": {},
   "source": [
    "# Zapytania złożone"
   ]
  },
  {
   "cell_type": "markdown",
   "metadata": {},
   "source": [
    "Przed rozpoczęciem pracy konieczne jest skonfigurowanie bazy oraz załadowanie danych:\n",
    "```ruby\n",
    "$:.unshift \".\"\n",
    "require 'db_setup'\n",
    "require 'db_load'\n",
    "```"
   ]
  },
  {
   "cell_type": "code",
   "execution_count": 1,
   "metadata": {
    "collapsed": false
   },
   "outputs": [
    {
     "name": "stdout",
     "output_type": "stream",
     "text": [
      "==  AddIndicesMigration: migrating ============================================\n",
      "==  AddIndicesMigration: migrated (0.0000s) ===================================\n",
      "\n"
     ]
    },
    {
     "data": {
      "text/plain": [
       "true"
      ]
     },
     "execution_count": 1,
     "metadata": {},
     "output_type": "execute_result"
    }
   ],
   "source": [
    "$:.unshift \".\"\n",
    "require 'db_setup'\n",
    "require 'db_load'"
   ]
  },
  {
   "cell_type": "markdown",
   "metadata": {},
   "source": [
    "W dalszych zadaniach będzie wykonywać polecenia korzystając z następujących klas, zmapowanych na odpowiadające im \n",
    "table w bazie danych:\n",
    "```ruby\n",
    "class Author < ActiveRecord::Base\n",
    "  # name      (string)\n",
    "  # surname   (string)\n",
    "  # born      (datetime) \n",
    "  # died      (datetime)\n",
    "  # image_url (string)\n",
    "  \n",
    "  has_many :books\n",
    "end\n",
    "\n",
    "class Book < ActiveRecord::Base\n",
    "  # title     (string)\n",
    "  # author    (Author)\n",
    "  # published (integer)\n",
    "\n",
    "  belongs_to :author\n",
    "end\n",
    "```"
   ]
  },
  {
   "cell_type": "markdown",
   "metadata": {},
   "source": [
    "ActiveRecord udostępnia interfejs pozwalający wyszukiwać dane w bazie również z wykorzystaniem związków zdefiniowanych pomiędzy\n",
    "klasami. Do definiowania tych związków służą polecenia `has_many`, `belongs_to`, `has_one` oraz `has_and_belongs_to_many`.\n",
    "Przykładowo jeśli chcemy dowiedzieć się kto był autorem pierwszej książki wykonujemy zapytanie:\n",
    "```ruby\n",
    "book = Book.first\n",
    "puts book.title\n",
    "puts book.author\n",
    "```"
   ]
  },
  {
   "cell_type": "code",
   "execution_count": 6,
   "metadata": {
    "collapsed": false
   },
   "outputs": [
    {
     "name": "stdout",
     "output_type": "stream",
     "text": [
      "Végjáték (regény)\n",
      "#<Author:0x95cc82c>\n"
     ]
    }
   ],
   "source": [
    "book = Book.first\n",
    "puts book.title\n",
    "puts book.author"
   ]
  },
  {
   "cell_type": "markdown",
   "metadata": {},
   "source": [
    "Niestety prezentowany wynik nie jest zbyt użyteczny. Ponieważ jednak metoda `author` zwraca obiekt, możemy na nim wywoływać \n",
    "metody - tak samo jak w przypadku autora załadowanego bezpośrednio z wykorzystaniem metod zdefiniowanych dla klasy `Author`\n",
    "```ruby\n",
    "book = Book.first\n",
    "puts book.title\n",
    "puts \"#{book.author.name} #{book.author.surname}\"\n",
    "```"
   ]
  },
  {
   "cell_type": "code",
   "execution_count": 8,
   "metadata": {
    "collapsed": false
   },
   "outputs": [
    {
     "name": "stdout",
     "output_type": "stream",
     "text": [
      "Végjáték (regény)\n",
      "Orson Scott Card\n"
     ]
    }
   ],
   "source": [
    "book = Book.first\n",
    "puts book.title\n",
    "puts \"#{book.author.name} #{book.author.surname}\""
   ]
  },
  {
   "cell_type": "markdown",
   "metadata": {},
   "source": [
    "Co więcej, jeśli mamy do czynienia ze związkiem jeden-do-wiele bądź wiele-do-wiele, możemy wywyływać wszystkie dotychczas poznane \n",
    "metody na kolekcji powiązanych obiektów. Istotnie ułatwia to wyszukiwanie potrzebnych danych:\n",
    "```ruby\n",
    "books = Book.where(\"title like 'A%'\")\n",
    "books.each do |book|\n",
    "  puts book.title\n",
    "end\n",
    "\n",
    "author = Author.where(surname: \"Tołstoj\").first\n",
    "books = author.books.where(\"title like 'A%'\")\n",
    "books.each do |book|\n",
    "  puts book.title\n",
    "end\n",
    "```"
   ]
  },
  {
   "cell_type": "code",
   "execution_count": 9,
   "metadata": {
    "collapsed": false
   },
   "outputs": [
    {
     "name": "stdout",
     "output_type": "stream",
     "text": [
      "Anna Karenina\n"
     ]
    },
    {
     "data": {
      "text/plain": [
       "[#<Book id: 33, title: \"Anna Karenina\", language: nil, author_id: 31, published: 1877, image_url: \"http://commons.wikimedia.org/wiki/Special:FilePath...\">]"
      ]
     },
     "execution_count": 9,
     "metadata": {},
     "output_type": "execute_result"
    }
   ],
   "source": [
    "\n",
    "author = Author.where(surname: \"Tołstoj\").first\n",
    "books = author.books.where(\"title like 'A%'\")\n",
    "books.each do |book|\n",
    "  puts book.title\n",
    "end"
   ]
  },
  {
   "cell_type": "markdown",
   "metadata": {},
   "source": [
    "Różnica pomiędzy tymi zapytaniami polega na tym, że w pierwszym przypadku szukamy książki, których tytuł zaczyna się na \"A\" \n",
    "w całym zbiorze książek, a w drugi przypadku wśród książek napisanych przez Tołstoja."
   ]
  },
  {
   "cell_type": "markdown",
   "metadata": {},
   "source": [
    "Aby umożliwić formatowanie wyników zapytania, IRuby udostępnia metodę `IRuby.html`, która pozwala na wyświetlanie kodu\n",
    "HTML. Przykładowo\n",
    "```ruby\n",
    "IRuby.html \"<h1>Test HTML-a</h1>\"\n",
    "```"
   ]
  },
  {
   "cell_type": "code",
   "execution_count": 10,
   "metadata": {
    "collapsed": false
   },
   "outputs": [
    {
     "data": {
      "text/html": [
       "<h1>Test HTML-a</h1>"
      ],
      "text/plain": [
       "\"<h1>Test HTML-a</h1>\""
      ]
     },
     "execution_count": 10,
     "metadata": {},
     "output_type": "execute_result"
    }
   ],
   "source": [
    "IRuby.html \"<h1>Test HTML-a</h1>\""
   ]
  },
  {
   "cell_type": "markdown",
   "metadata": {},
   "source": [
    "Dzięki temu będziemy mogli formatować wyniki zapytań, a wszczególności wyświetlać obrazy przedstwiające autorów oraz książki. \n",
    "Należy jednak wziąć pod uwagę, że nie wszystkie książki oraz nie wszyscy autorzy posiadają odpowiadające im obrazki.\n",
    "Aby wyświetlić imię, nazwisko oraz obraz pierwszego autora piszemy:\n",
    "```ruby\n",
    "author = Author.where(\"image_url is not null\").first\n",
    "IRuby.html \"<h1>#{author.name} #{author.surname}</h1><img src='#{author.image_url}'/>\"\n",
    "```"
   ]
  },
  {
   "cell_type": "code",
   "execution_count": 11,
   "metadata": {
    "collapsed": false
   },
   "outputs": [
    {
     "data": {
      "text/html": [
       "<h1>Orson Scott Card</h1><img src='http://commons.wikimedia.org/wiki/Special:FilePath/Orson_Scott_Card_at_BYU_Symposium_20080216_closeup.jpg?width=300'/>"
      ],
      "text/plain": [
       "\"<h1>Orson Scott Card</h1><img src='http://commons.wikimedia.org/wiki/Special:FilePath/Orson_Scott_Card_at_BYU_Symposium_20080216_closeup.jpg?width=300'/>\""
      ]
     },
     "execution_count": 11,
     "metadata": {},
     "output_type": "execute_result"
    }
   ],
   "source": [
    "author = Author.where(\"image_url is not null\").first\n",
    "IRuby.html \"<h1>#{author.name} #{author.surname}</h1><img src='#{author.image_url}'/>\""
   ]
  },
  {
   "cell_type": "markdown",
   "metadata": {},
   "source": [
    "Możemy również zdefniować funkcję, np. `display_author`, której zadaniem będzie wyświetlenie autora w tej postaci. \n",
    "Jedyny problem polega na tym, że funkcja `IRuby.html` może być wywoływana tylko raz. Dlatego jeśli chcemy wyświetlić kilku autorów,\n",
    "musimy połączyć odpowiadające im kody HTML i wynik przekazać do funkcji `html`\n",
    "```ruby\n",
    "def display_author(author)\n",
    "  \"<h1>#{author.name} #{author.surname}</h1><img src='#{author.image_url}'/>\"\n",
    "end\n",
    "\n",
    "author_1 = Author.where(\"image_url is not null\").first\n",
    "author_2 = Author.where(\"image_url is not null\").offset(1).first\n",
    "document = display_author(author_1)\n",
    "document += display_author(author_2)\n",
    "IRuby.html document\n",
    "```"
   ]
  },
  {
   "cell_type": "code",
   "execution_count": 12,
   "metadata": {
    "collapsed": false
   },
   "outputs": [
    {
     "data": {
      "text/html": [
       "<h1>Orson Scott Card</h1><img src='http://commons.wikimedia.org/wiki/Special:FilePath/Orson_Scott_Card_at_BYU_Symposium_20080216_closeup.jpg?width=300'/><h1>Andrzej Sapkowski</h1><img src='http://commons.wikimedia.org/wiki/Special:FilePath/Sapkowski.jpg?width=300'/>"
      ],
      "text/plain": [
       "\"<h1>Orson Scott Card</h1><img src='http://commons.wikimedia.org/wiki/Special:FilePath/Orson_Scott_Card_at_BYU_Symposium_20080216_closeup.jpg?width=300'/><h1>Andrzej Sapkowski</h1><img src='http://commons.wikimedia.org/wiki/Special:FilePath/Sapkowski.jpg?width=300'/>\""
      ]
     },
     "execution_count": 12,
     "metadata": {},
     "output_type": "execute_result"
    }
   ],
   "source": [
    "def display_author(author)\n",
    "  \"<h1>#{author.name} #{author.surname}</h1><img src='#{author.image_url}'/>\"\n",
    "end\n",
    "\n",
    "author_1 = Author.where(\"image_url is not null\").first\n",
    "author_2 = Author.where(\"image_url is not null\").offset(1).first\n",
    "document = display_author(author_1)\n",
    "document += display_author(author_2)\n",
    "IRuby.html document"
   ]
  },
  {
   "cell_type": "markdown",
   "metadata": {},
   "source": [
    "## Zadania"
   ]
  },
  {
   "cell_type": "markdown",
   "metadata": {},
   "source": [
    "### Zadanie 1"
   ]
  },
  {
   "cell_type": "markdown",
   "metadata": {},
   "source": [
    "Wyświetl wszystkich autorów, którzy urodzili się przed rokiem 1900."
   ]
  },
  {
   "cell_type": "code",
   "execution_count": 13,
   "metadata": {
    "collapsed": false
   },
   "outputs": [
    {
     "data": {
      "text/html": [
       "<h1>Jack London</h1><img src='http://commons.wikimedia.org/wiki/Special:FilePath/JackLondon02.jpeg?width=300'/><h1>Mikołaj Kopernik</h1><img src='http://commons.wikimedia.org/wiki/Special:FilePath/Nikolaus_Kopernikus.jpg?width=300'/><h1>Maria Franciszka Kozłowska</h1><img src='http://commons.wikimedia.org/wiki/Special:FilePath/Mateczk_Kozłowska.JPG?width=300'/><h1>William Szekspir</h1><img src='http://commons.wikimedia.org/wiki/Special:FilePath/Shakespeare.jpg?width=300'/><h1>John Ronald Reuel Tolkien</h1><img src='http://commons.wikimedia.org/wiki/Special:FilePath/Tolkien_1916.jpg?width=300'/><h1>Aleksander Dumas (ojciec)</h1><img src='http://commons.wikimedia.org/wiki/Special:FilePath/Dumas_by_Nadar,_1855.jpg?width=300'/><h1>Tadeusz Dołęga-Mostowicz</h1><img src='http://commons.wikimedia.org/wiki/Special:FilePath/Tadeusz_Dolega-Mostowicz.jpg?width=300'/><h1>Vladimir Nabokov</h1><img src='http://commons.wikimedia.org/wiki/Special:FilePath/Monument_Nabokov_Montreux_23.12.2006.jpg?width=300'/><h1>Adolf Hitler</h1><img src='http://commons.wikimedia.org/wiki/Special:FilePath/Hitler_portrait_crop.jpg?width=300'/><h1>Benedykt Chmielowski</h1><img src='http://commons.wikimedia.org/wiki/Special:FilePath/POL_COA_Nałęcz.svg?width=300'/><h1>Aldous Huxley</h1><img src='http://commons.wikimedia.org/wiki/Special:FilePath/Aldous_Huxley.JPG?width=300'/><h1>Honoré de Balzac</h1><img src='http://commons.wikimedia.org/wiki/Special:FilePath/HBalzac.jpg?width=300'/><h1>Franz Kafka</h1><img src='http://commons.wikimedia.org/wiki/Special:FilePath/Kafka1906.jpg?width=300'/><h1>Howard Phillips Lovecraft</h1><img src='http://commons.wikimedia.org/wiki/Special:FilePath/Howard_Phillips_Lovecraft_in_1915.jpg?width=300'/><h1>Lew Tołstoj</h1><img src='http://commons.wikimedia.org/wiki/Special:FilePath/Ilya_Efimovich_Repin_(1844-1930)_-_Portrait_of_Leo_Tolstoy_(1887).jpg?width=300'/><h1>Ilja Ilf</h1><img src='http://commons.wikimedia.org/wiki/Special:FilePath/Ilya_Ilf.jpg?width=300'/><h1>Gabriela Zapolska</h1><img src='http://commons.wikimedia.org/wiki/Special:FilePath/Gabriela_Zapolska.PNG?width=300'/><h1>Clive Staples Lewis</h1><img src='http://commons.wikimedia.org/wiki/Special:FilePath/Statue_of_C.S._Lewis,_Belfast.jpg?width=300'/><h1>Iwan Turgieniew</h1><img src='http://commons.wikimedia.org/wiki/Special:FilePath/Turgenev_by_Repin.jpg?width=300'/><h1>Lucy Maud Montgomery</h1><img src='http://commons.wikimedia.org/wiki/Special:FilePath/Lucy_Maud_Montgomery.JPG?width=300'/><h1>Aleksander Majkowski</h1><img src='http://commons.wikimedia.org/wiki/Special:FilePath/POL_Polonia_Restituta_Oficerski_BAR.svg?width=300'/>"
      ],
      "text/plain": [
       "\"<h1>Jack London</h1><img src='http://commons.wikimedia.org/wiki/Special:FilePath/JackLondon02.jpeg?width=300'/><h1>Mikołaj Kopernik</h1><img src='http://commons.wikimedia.org/wiki/Special:FilePath/Nikolaus_Kopernikus.jpg?width=300'/><h1>Maria Franciszka Kozłowska</h1><img src='http://commons.wikimedia.org/wiki/Special:FilePath/Mateczk_Kozłowska.JPG?width=300'/><h1>William Szekspir</h1><img src='http://commons.wikimedia.org/wiki/Special:FilePath/Shakespeare.jpg?width=300'/><h1>John Ronald Reuel Tolkien</h1><img src='http://commons.wikimedia.org/wiki/Special:FilePath/Tolkien_1916.jpg?width=300'/><h1>Aleksander Dumas (ojciec)</h1><img src='http://commons.wikimedia.org/wiki/Special:FilePath/Dumas_by_Nadar,_1855.jpg?width=300'/><h1>Tadeusz Dołęga-Mostowicz</h1><img src='http://commons.wikimedia.org/wiki/Special:FilePath/Tadeusz_Dolega-Mostowicz.jpg?width=300'/><h1>Vladimir Nabokov</h1><img src='http://commons.wikimedia.org/wiki/Special:FilePath/Monument_Nabokov_Montreux_23.12.2006.jpg?width=300'/><h1>Adolf Hitler</h1><img src='http://commons.wikimedia.org/wiki/Special:FilePath/Hitler_portrait_crop.jpg?width=300'/><h1>Benedykt Chmielowski</h1><img src='http://commons.wikimedia.org/wiki/Special:FilePath/POL_COA_Nałęcz.svg?width=300'/><h1>Aldous Huxley</h1><img src='http://commons.wikimedia.org/wiki/Special:FilePath/Aldous_Huxley.JPG?width=300'/><h1>Honoré de Balzac</h1><img src='http://commons.wikimedia.org/wiki/Special:FilePath/HBalzac.jpg?width=300'/><h1>Franz Kafka</h1><img src='http://commons.wikimedia.org/wiki/Special:FilePath/Kafka1906.jpg?width=300'/><h1>Howard Phillips Lovecraft</h1><img src='http://commons.wikimedia.org/wiki/Special:FilePath/Howard_Phillips_Lovecraft_in_1915.jpg?width=300'/><h1>Lew Tołstoj</h1><img src='http://commons.wikimedia.org/wiki/Special:FilePath/Ilya_Efimovich_Repin_(1844-1930)_-_Portrait_of_Leo_Tolstoy_(1887).jpg?width=300'/><h1>Ilja Ilf</h1><img src='http://commons.wikimedia.org/wiki/Special:FilePath/Ilya_Ilf.jpg?width=300'/><h1>Gabriela Zapolska</h1><img src='http://commons.wikimedia.org/wiki/Special:FilePath/Gabriela_Zapolska.PNG?width=300'/><h1>Clive Staples Lewis</h1><img src='http://commons.wikimedia.org/wiki/Special:FilePath/Statue_of_C.S._Lewis,_Belfast.jpg?width=300'/><h1>Iwan Turgieniew</h1><img src='http://commons.wikimedia.org/wiki/Special:FilePath/Turgenev_by_Repin.jpg?width=300'/><h1>Lucy Maud Montgomery</h1><img src='http://commons.wikimedia.org/wiki/Special:FilePath/Lucy_Maud_Montgomery.JPG?width=300'/><h1>Aleksander Majkowski</h1><img src='http://commons.wikimedia.org/wiki/Special:FilePath/POL_Polonia_Restituta_Oficerski_BAR.svg?width=300'/>\""
      ]
     },
     "execution_count": 13,
     "metadata": {},
     "output_type": "execute_result"
    }
   ],
   "source": [
    "def display_authors(authors)\n",
    "  html = \"\"\n",
    "  authors.each do |author|\n",
    "    html << \"<h1>#{author.name} #{author.surname}</h1><img src='#{author.image_url}'/>\"\n",
    "  end\n",
    "  html\n",
    "end\n",
    "authors = []\n",
    "authors = Author.where('born < ?',Date.parse(\"1900-01-01\")).where(\"image_url is not null\").all\n",
    "document = display_authors(authors)\n",
    "IRuby.html document"
   ]
  },
  {
   "cell_type": "code",
   "execution_count": null,
   "metadata": {
    "collapsed": false
   },
   "outputs": [],
   "source": []
  },
  {
   "cell_type": "markdown",
   "metadata": {},
   "source": [
    "### Zadanie 2"
   ]
  },
  {
   "cell_type": "markdown",
   "metadata": {},
   "source": [
    "Zmodyfikuj funkcję wyświetlającą autorów tak aby obejmowała ich datę urodzin i śmierci w formacie `dzień.miesiąc.rok`. Następnie wyświetl wszystkich autorów,\n",
    "którzy zmarli w XX wieku."
   ]
  },
  {
   "cell_type": "code",
   "execution_count": 14,
   "metadata": {
    "collapsed": false
   },
   "outputs": [
    {
     "data": {
      "text/html": [
       "<h1>Jack London 01.12.1876 - 11.22.1916 </h1><img src='http://commons.wikimedia.org/wiki/Special:FilePath/JackLondon02.jpeg?width=300'/><h1>John Ronald Reuel Tolkien 01.03.1892 - 09.02.1973 </h1><img src='http://commons.wikimedia.org/wiki/Special:FilePath/Tolkien_1916.jpg?width=300'/><h1>Tadeusz Dołęga-Mostowicz 08.10.1898 - 09.20.1939 </h1><img src='http://commons.wikimedia.org/wiki/Special:FilePath/Tadeusz_Dolega-Mostowicz.jpg?width=300'/><h1>Vladimir Nabokov 04.22.1899 - 07.02.1977 </h1><img src='http://commons.wikimedia.org/wiki/Special:FilePath/Monument_Nabokov_Montreux_23.12.2006.jpg?width=300'/><h1>Adolf Hitler 04.20.1889 - 04.30.1945 </h1><img src='http://commons.wikimedia.org/wiki/Special:FilePath/Hitler_portrait_crop.jpg?width=300'/><h1>Aldous Huxley 07.26.1894 - 11.22.1963 </h1><img src='http://commons.wikimedia.org/wiki/Special:FilePath/Aldous_Huxley.JPG?width=300'/><h1>Franz Kafka 07.03.1883 - 06.03.1924 </h1><img src='http://commons.wikimedia.org/wiki/Special:FilePath/Kafka1906.jpg?width=300'/><h1>Howard Phillips Lovecraft 08.20.1890 - 03.15.1937 </h1><img src='http://commons.wikimedia.org/wiki/Special:FilePath/Howard_Phillips_Lovecraft_in_1915.jpg?width=300'/><h1>Lew Tołstoj 09.09.1828 - 11.20.1910 </h1><img src='http://commons.wikimedia.org/wiki/Special:FilePath/Ilya_Efimovich_Repin_(1844-1930)_-_Portrait_of_Leo_Tolstoy_(1887).jpg?width=300'/><h1>Ilja Ilf 10.15.1897 - 04.13.1937 </h1><img src='http://commons.wikimedia.org/wiki/Special:FilePath/Ilya_Ilf.jpg?width=300'/><h1>Gabriela Zapolska 03.30.1857 - 12.17.1921 </h1><img src='http://commons.wikimedia.org/wiki/Special:FilePath/Gabriela_Zapolska.PNG?width=300'/><h1>Clive Staples Lewis 11.29.1898 - 11.22.1963 </h1><img src='http://commons.wikimedia.org/wiki/Special:FilePath/Statue_of_C.S._Lewis,_Belfast.jpg?width=300'/><h1>Lucy Maud Montgomery 11.30.1874 - 04.24.1942 </h1><img src='http://commons.wikimedia.org/wiki/Special:FilePath/Lucy_Maud_Montgomery.JPG?width=300'/><h1>Aleksander Majkowski 07.17.1876 - 02.10.1938 </h1><img src='http://commons.wikimedia.org/wiki/Special:FilePath/POL_Polonia_Restituta_Oficerski_BAR.svg?width=300'/>"
      ],
      "text/plain": [
       "\"<h1>Jack London 01.12.1876 - 11.22.1916 </h1><img src='http://commons.wikimedia.org/wiki/Special:FilePath/JackLondon02.jpeg?width=300'/><h1>John Ronald Reuel Tolkien 01.03.1892 - 09.02.1973 </h1><img src='http://commons.wikimedia.org/wiki/Special:FilePath/Tolkien_1916.jpg?width=300'/><h1>Tadeusz Dołęga-Mostowicz 08.10.1898 - 09.20.1939 </h1><img src='http://commons.wikimedia.org/wiki/Special:FilePath/Tadeusz_Dolega-Mostowicz.jpg?width=300'/><h1>Vladimir Nabokov 04.22.1899 - 07.02.1977 </h1><img src='http://commons.wikimedia.org/wiki/Special:FilePath/Monument_Nabokov_Montreux_23.12.2006.jpg?width=300'/><h1>Adolf Hitler 04.20.1889 - 04.30.1945 </h1><img src='http://commons.wikimedia.org/wiki/Special:FilePath/Hitler_portrait_crop.jpg?width=300'/><h1>Aldous Huxley 07.26.1894 - 11.22.1963 </h1><img src='http://commons.wikimedia.org/wiki/Special:FilePath/Aldous_Huxley.JPG?width=300'/><h1>Franz Kafka 07.03.1883 - 06.03.1924 </h1><img src='http://commons.wikimedia.org/wiki/Special:FilePath/Kafka1906.jpg?width=300'/><h1>Howard Phillips Lovecraft 08.20.1890 - 03.15.1937 </h1><img src='http://commons.wikimedia.org/wiki/Special:FilePath/Howard_Phillips_Lovecraft_in_1915.jpg?width=300'/><h1>Lew Tołstoj 09.09.1828 - 11.20.1910 </h1><img src='http://commons.wikimedia.org/wiki/Special:FilePath/Ilya_Efimovich_Repin_(1844-1930)_-_Portrait_of_Leo_Tolstoy_(1887).jpg?width=300'/><h1>Ilja Ilf 10.15.1897 - 04.13.1937 </h1><img src='http://commons.wikimedia.org/wiki/Special:FilePath/Ilya_Ilf.jpg?width=300'/><h1>Gabriela Zapolska 03.30.1857 - 12.17.1921 </h1><img src='http://commons.wikimedia.org/wiki/Special:FilePath/Gabriela_Zapolska.PNG?width=300'/><h1>Clive Staples Lewis 11.29.1898 - 11.22.1963 </h1><img src='http://commons.wikimedia.org/wiki/Special:FilePath/Statue_of_C.S._Lewis,_Belfast.jpg?width=300'/><h1>Lucy Maud Montgomery 11.30.1874 - 04.24.1942 </h1><img src='http://commons.wikimedia.org/wiki/Special:FilePath/Lucy_Maud_Montgomery.JPG?width=300'/><h1>Aleksander Majkowski 07.17.1876 - 02.10.1938 </h1><img src='http://commons.wikimedia.org/wiki/Special:FilePath/POL_Polonia_Restituta_Oficerski_BAR.svg?width=300'/>\""
      ]
     },
     "execution_count": 14,
     "metadata": {},
     "output_type": "execute_result"
    }
   ],
   "source": [
    "def display_authors(authors)\n",
    "  html = \"\"\n",
    "  authors.each do |author|\n",
    "    html << \"<h1>#{author.name} #{author.surname} #{author.born.strftime(\"%m.%d.%Y\")} - #{author.died.strftime(\"%m.%d.%Y\")} </h1><img src='#{author.image_url}'/>\"\n",
    "end\n",
    "  html\n",
    "end\n",
    "authors = []\n",
    "authors = Author.where('born < ?',Date.parse(\"1900-01-01\")).where(\"image_url is not null\").where(died: Date.parse(\"1900-01-01\")..Date.parse(\"2000-12-31\")).all\n",
    "document = display_authors(authors)\n",
    "IRuby.html document"
   ]
  },
  {
   "cell_type": "markdown",
   "metadata": {},
   "source": [
    "### Zadanie 3"
   ]
  },
  {
   "cell_type": "markdown",
   "metadata": {},
   "source": [
    "Wyświetl 5 najmłodszych autorów, którzy posiadają przypisane zdjęcie."
   ]
  },
  {
   "cell_type": "code",
   "execution_count": 15,
   "metadata": {
    "collapsed": false
   },
   "outputs": [
    {
     "data": {
      "text/html": [
       "<h1>Andrzej Pilipiuk 1974-03-20 </h1><img src='http://commons.wikimedia.org/wiki/Special:FilePath/Andrzej_Pilipiuk-Polcon2006.jpg?width=300'/><h1>J. K. Rowling 1965-07-31 </h1><img src='http://commons.wikimedia.org/wiki/Special:FilePath/J._K._Rowling_2010.jpg?width=300'/><h1>Rafał A. Ziemkiewicz 1964-09-13 </h1><img src='http://commons.wikimedia.org/wiki/Special:FilePath/Rafał_Ziemkiewicz.jpg?width=300'/><h1>Boris Akunin 1956-05-20 </h1><img src='http://commons.wikimedia.org/wiki/Special:FilePath/Boris_Akunin_2012.jpg?width=300'/><h1>Orson Scott Card 1951-08-24 </h1><img src='http://commons.wikimedia.org/wiki/Special:FilePath/Orson_Scott_Card_at_BYU_Symposium_20080216_closeup.jpg?width=300'/>"
      ],
      "text/plain": [
       "\"<h1>Andrzej Pilipiuk 1974-03-20 </h1><img src='http://commons.wikimedia.org/wiki/Special:FilePath/Andrzej_Pilipiuk-Polcon2006.jpg?width=300'/><h1>J. K. Rowling 1965-07-31 </h1><img src='http://commons.wikimedia.org/wiki/Special:FilePath/J._K._Rowling_2010.jpg?width=300'/><h1>Rafał A. Ziemkiewicz 1964-09-13 </h1><img src='http://commons.wikimedia.org/wiki/Special:FilePath/Rafał_Ziemkiewicz.jpg?width=300'/><h1>Boris Akunin 1956-05-20 </h1><img src='http://commons.wikimedia.org/wiki/Special:FilePath/Boris_Akunin_2012.jpg?width=300'/><h1>Orson Scott Card 1951-08-24 </h1><img src='http://commons.wikimedia.org/wiki/Special:FilePath/Orson_Scott_Card_at_BYU_Symposium_20080216_closeup.jpg?width=300'/>\""
      ]
     },
     "execution_count": 15,
     "metadata": {},
     "output_type": "execute_result"
    }
   ],
   "source": [
    "def display_authors(authors)\n",
    "  html = \"\"\n",
    "  authors.each do |author|\n",
    "    html << \"<h1>#{author.name} #{author.surname} #{author.born} #{author.died}</h1><img src='#{author.image_url}'/>\"\n",
    "  end\n",
    "  html\n",
    "end\n",
    "authors = []\n",
    "authors = Author.order('born DESC').where(\"image_url is not null\").limit(5)\n",
    "document = display_authors(authors)\n",
    "IRuby.html document"
   ]
  },
  {
   "cell_type": "markdown",
   "metadata": {},
   "source": [
    "### Zadanie 4"
   ]
  },
  {
   "cell_type": "markdown",
   "metadata": {},
   "source": [
    "Zdefiniuj funkcję `display_book`, która będzie zwracała fragment kodu HTML obejmujący tytuł książki, rok jej wydania oraz\n",
    "przypisany obrazek.\n",
    "Wyświetl najwcześniej wydaną książkę."
   ]
  },
  {
   "cell_type": "code",
   "execution_count": 16,
   "metadata": {
    "collapsed": false
   },
   "outputs": [
    {
     "data": {
      "text/html": [
       "<h1>Hamlet </h1><img src='http://commons.wikimedia.org/wiki/Special:FilePath/Shakespeare.jpg?width=300'/>"
      ],
      "text/plain": [
       "\"<h1>Hamlet </h1><img src='http://commons.wikimedia.org/wiki/Special:FilePath/Shakespeare.jpg?width=300'/>\""
      ]
     },
     "execution_count": 16,
     "metadata": {},
     "output_type": "execute_result"
    }
   ],
   "source": [
    "def display_book(book)\n",
    "  html = \"\"\n",
    "  html << \"<h1>#{book.title} #{book.published}</h1><img src='#{book.author.image_url}'/>\"\n",
    "  html\n",
    "end\n",
    "\n",
    "book = Book.order(:published).where(\"image_url is not null\").first\n",
    "document = display_book(book)\n",
    "IRuby.html document"
   ]
  },
  {
   "cell_type": "code",
   "execution_count": null,
   "metadata": {
    "collapsed": false
   },
   "outputs": [],
   "source": [
    "IRuby.html \"<h1>Test HTML-a</h1>\""
   ]
  },
  {
   "cell_type": "markdown",
   "metadata": {},
   "source": [
    "### Zadanie 5"
   ]
  },
  {
   "cell_type": "markdown",
   "metadata": {},
   "source": [
    "Wyświetl wszystkie książki, które nie mają przypisanego roku wydania."
   ]
  },
  {
   "cell_type": "code",
   "execution_count": 17,
   "metadata": {
    "collapsed": false
   },
   "outputs": [
    {
     "data": {
      "text/html": [
       "<h1>Hamlet </h1><img src='http://commons.wikimedia.org/wiki/Special:FilePath/Shakespeare.jpg?width=300'/>"
      ],
      "text/plain": [
       "\"<h1>Hamlet </h1><img src='http://commons.wikimedia.org/wiki/Special:FilePath/Shakespeare.jpg?width=300'/>\""
      ]
     },
     "execution_count": 17,
     "metadata": {},
     "output_type": "execute_result"
    }
   ],
   "source": [
    "def display_book(books)\n",
    "  html = \"\"\n",
    "  books.each do |book|\n",
    "    html << \"<h1>#{book.title} </h1><img src='#{book.author.image_url}'/>\"\n",
    "  end\n",
    "  html\n",
    "end\n",
    "books = []\n",
    "books = Book.where('published is null').where(\"image_url is not null\").all\n",
    "document = display_book(books)\n",
    "IRuby.html document"
   ]
  },
  {
   "cell_type": "markdown",
   "metadata": {},
   "source": [
    "### Zadanie 6"
   ]
  },
  {
   "cell_type": "markdown",
   "metadata": {},
   "source": [
    "Zmodyfikuj funkcję `display_author` tak, aby wyświetlała również wszystkie książki napisane przez autora. Użyj znacznika `<ul>`.\n",
    "Korzystając z tej funkcji wyświetl opis Stanisława Lema."
   ]
  },
  {
   "cell_type": "code",
   "execution_count": 18,
   "metadata": {
    "collapsed": false
   },
   "outputs": [
    {
     "data": {
      "text/html": [
       "<h1>Stanisław Lem</h1><ul><li> Bajki robotów </li><li> Solaris (powieść) </li><li> Bezsenność (zbiór opowiadań) </li><li> Głos Pana </li><li> Inwazja z Aldebarana (zbiór opowiadań) </li><li> Katar (powieść) </li><li> Księga robotów </li><li> Maska (zbiór dzieł) </li><li> Niezwyciężony i inne opowiadania </li><li> Noc księżycowa </li><li> Pamiętnik znaleziony w wannie </li><li> Polowanie (zbiór opowiadań) </li><li> Powtórka (zbiór dzieł) </li><li> Pożytek ze smoka </li><li> Rasa drapieżców. Teksty ostatnie </li><li> Sezam i inne opowiadania </li><li> Summa technologiae </li><li> Wizja lokalna (powieść) </li></ul>"
      ],
      "text/plain": [
       "\"<h1>Stanisław Lem</h1><ul><li> Bajki robotów </li><li> Solaris (powieść) </li><li> Bezsenność (zbiór opowiadań) </li><li> Głos Pana </li><li> Inwazja z Aldebarana (zbiór opowiadań) </li><li> Katar (powieść) </li><li> Księga robotów </li><li> Maska (zbiór dzieł) </li><li> Niezwyciężony i inne opowiadania </li><li> Noc księżycowa </li><li> Pamiętnik znaleziony w wannie </li><li> Polowanie (zbiór opowiadań) </li><li> Powtórka (zbiór dzieł) </li><li> Pożytek ze smoka </li><li> Rasa drapieżców. Teksty ostatnie </li><li> Sezam i inne opowiadania </li><li> Summa technologiae </li><li> Wizja lokalna (powieść) </li></ul>\""
      ]
     },
     "execution_count": 18,
     "metadata": {},
     "output_type": "execute_result"
    }
   ],
   "source": [
    "def display_author(surname)\n",
    "  author = Author.where(surname: surname).first\n",
    "  html = \"\"\n",
    "  html << \"<h1>#{author.name} #{author.surname}</h1>\"\n",
    "  html << \"<ul>\"\n",
    "  author.books.each do |book|\n",
    "    html << \"<li> #{book.title} </li>\"\n",
    "  end\n",
    "  html << \"</ul>\"\n",
    "  html\n",
    "end\n",
    "\n",
    "\n",
    "document = display_author(\"Lem\")\n",
    "IRuby.html document"
   ]
  },
  {
   "cell_type": "markdown",
   "metadata": {},
   "source": [
    "### Zadanie 7"
   ]
  },
  {
   "cell_type": "markdown",
   "metadata": {},
   "source": [
    "Wśród książek napisanych przez Lema wyświetl wszystkie, które zawieraja w tytule słowo \"zbiór\"."
   ]
  },
  {
   "cell_type": "code",
   "execution_count": 19,
   "metadata": {
    "collapsed": false
   },
   "outputs": [
    {
     "data": {
      "text/html": [
       "<h1>Stanisław Lem</h1><ul><li> Bezsenność (zbiór opowiadań) </li><li> Inwazja z Aldebarana (zbiór opowiadań) </li><li> Maska (zbiór dzieł) </li><li> Polowanie (zbiór opowiadań) </li><li> Powtórka (zbiór dzieł) </li></ul>"
      ],
      "text/plain": [
       "\"<h1>Stanisław Lem</h1><ul><li> Bezsenność (zbiór opowiadań) </li><li> Inwazja z Aldebarana (zbiór opowiadań) </li><li> Maska (zbiór dzieł) </li><li> Polowanie (zbiór opowiadań) </li><li> Powtórka (zbiór dzieł) </li></ul>\""
      ]
     },
     "execution_count": 19,
     "metadata": {},
     "output_type": "execute_result"
    }
   ],
   "source": [
    "def display_author(surname)\n",
    "  author = Author.where(surname: surname).first\n",
    "  html = \"\"\n",
    "  html << \"<h1>#{author.name} #{author.surname}</h1>\"\n",
    "  html << \"<ul>\"\n",
    "  author.books.each do |book|\n",
    "    html << \"<li> #{book.title} </li>\" if book.title =~ /zbiór/\n",
    "  end\n",
    "  html << \"</ul>\"\n",
    "  html\n",
    "end\n",
    "\n",
    "\n",
    "document = display_author(\"Lem\")\n",
    "IRuby.html document"
   ]
  },
  {
   "cell_type": "markdown",
   "metadata": {},
   "source": [
    "### Zadanie 8"
   ]
  },
  {
   "cell_type": "markdown",
   "metadata": {},
   "source": [
    "Wśród książek napisanych przez Lema wyświetl te, które zostały wydane w roku jego śmierci."
   ]
  },
  {
   "cell_type": "code",
   "execution_count": 31,
   "metadata": {
    "collapsed": false
   },
   "outputs": [
    {
     "data": {
      "text/html": [
       "<h1>Stanisław Lem</h1><ul><li> Rasa drapieżców. Teksty ostatnie </li></ul>"
      ],
      "text/plain": [
       "\"<h1>Stanisław Lem</h1><ul><li> Rasa drapieżców. Teksty ostatnie </li></ul>\""
      ]
     },
     "execution_count": 31,
     "metadata": {},
     "output_type": "execute_result"
    }
   ],
   "source": [
    "def display_author(surname)\n",
    "  author = Author.where(surname: surname).first\n",
    "  html = \"\"\n",
    "  html << \"<h1>#{author.name} #{author.surname}</h1>\"\n",
    "  html << \"<ul>\"\n",
    "  author.books.where(published: author.died.year).each do |book|\n",
    "    html << \"<li> #{book.title} </li>\"  \n",
    "  end\n",
    "  html << \"</ul>\"\n",
    "  html\n",
    "end\n",
    "\n",
    "document = display_author(\"Lem\")\n",
    "IRuby.html document"
   ]
  },
  {
   "cell_type": "markdown",
   "metadata": {},
   "source": [
    "### Zadanie 9"
   ]
  },
  {
   "cell_type": "markdown",
   "metadata": {},
   "source": [
    "Wyświetl wszystkie książki znajdujące się w bazie. Opis powinien zawierać tytuł, imię i nazwisko autora, rok wydania oraz \n",
    "obraz przedstawiający książkę (o ile istnieje)."
   ]
  },
  {
   "cell_type": "code",
   "execution_count": 34,
   "metadata": {
    "collapsed": false
   },
   "outputs": [
    {
     "data": {
      "text/html": [
       "<h1>Végjáték (regény) Orson Scott Card </h1><img src='http://commons.wikimedia.org/wiki/Special:FilePath/Orson_Scott_Card_at_BYU_Symposium_20080216_closeup.jpg?width=300'/><h1>Pani Jeziora (powieść) Andrzej Sapkowski 1999</h1><img src='http://commons.wikimedia.org/wiki/Special:FilePath/Sapkowski.jpg?width=300'/><h1>Bellew Zawierucha Jack London 1912</h1><img src='http://commons.wikimedia.org/wiki/Special:FilePath/JackLondon02.jpeg?width=300'/><h1>Fałszywy trop (powieść) Henning Mankell 1995</h1><img src='http://commons.wikimedia.org/wiki/Special:FilePath/Henning_Mankell_3_2011_Shankbone.jpg?width=300'/><h1>Bajki robotów Stanisław Lem 1964</h1><img src='http://commons.wikimedia.org/wiki/Special:FilePath/Stanislaw_Lem_2.jpg?width=300'/><h1>Bolesław Chrobry (powieść) Antoni Gołubiew 1947</h1><img src='http://commons.wikimedia.org/wiki/Special:FilePath/Antoni_Golubiew.jpg?width=300'/><h1>De revolutionibus orbium coelestium Mikołaj Kopernik 1543</h1><img src='http://commons.wikimedia.org/wiki/Special:FilePath/Nikolaus_Kopernikus.jpg?width=300'/><h1>Dzieło Wielkiego Miłosierdzia Maria Franciszka Kozłowska 1922</h1><img src='http://commons.wikimedia.org/wiki/Special:FilePath/Mateczk_Kozłowska.JPG?width=300'/><h1>Folwark zwierzęcy George Orwell 1945</h1><img src='http://commons.wikimedia.org/wiki/Special:FilePath/GeoreOrwell.jpg?width=300'/><h1>Hamlet William Szekspir </h1><img src='http://commons.wikimedia.org/wiki/Special:FilePath/Shakespeare.jpg?width=300'/><h1>Harry Potter J. K. Rowling 1997</h1><img src='http://commons.wikimedia.org/wiki/Special:FilePath/J._K._Rowling_2010.jpg?width=300'/><h1>Hobbit, czyli tam i z powrotem John Ronald Reuel Tolkien 1937</h1><img src='http://commons.wikimedia.org/wiki/Special:FilePath/Tolkien_1916.jpg?width=300'/><h1>Hrabia Monte Christo Aleksander Dumas (ojciec) 1844</h1><img src='http://commons.wikimedia.org/wiki/Special:FilePath/Dumas_by_Nadar,_1855.jpg?width=300'/><h1>Kariera Nikodema Dyzmy Tadeusz Dołęga-Mostowicz 1932</h1><img src='http://commons.wikimedia.org/wiki/Special:FilePath/Tadeusz_Dolega-Mostowicz.jpg?width=300'/><h1>Krzyżacy (powieść) Henryk Sienkiewicz 1900</h1><img src=''/><h1>Lolita Vladimir Nabokov 1955</h1><img src='http://commons.wikimedia.org/wiki/Special:FilePath/Monument_Nabokov_Montreux_23.12.2006.jpg?width=300'/><h1>Mein Kampf Adolf Hitler 1925</h1><img src='http://commons.wikimedia.org/wiki/Special:FilePath/Hitler_portrait_crop.jpg?width=300'/><h1>Nad Niemnem Eliza Orzeszkowa 1888</h1><img src=''/><h1>Niedokończone opowieści Christopher Tolkien 1980</h1><img src=''/><h1>Nowe Ateny Benedykt Chmielowski 1745</h1><img src='http://commons.wikimedia.org/wiki/Special:FilePath/POL_COA_Nałęcz.svg?width=300'/><h1>Nowy wspaniały świat Aldous Huxley 1932</h1><img src='http://commons.wikimedia.org/wiki/Special:FilePath/Aldous_Huxley.JPG?width=300'/><h1>Ogniem i mieczem Henryk Sienkiewicz 1884</h1><img src=''/><h1>Ojciec Goriot Honoré de Balzac 1835</h1><img src='http://commons.wikimedia.org/wiki/Special:FilePath/HBalzac.jpg?width=300'/><h1>Proces (powieść) Franz Kafka 1925</h1><img src='http://commons.wikimedia.org/wiki/Special:FilePath/Kafka1906.jpg?width=300'/><h1>Psałterz Dawidów Jan Kochanowski 1579</h1><img src='http://commons.wikimedia.org/wiki/Special:FilePath/Jan_Kochanowski.png?width=300'/><h1>Quo vadis Henryk Sienkiewicz 1896</h1><img src=''/><h1>Romeo i Julia William Szekspir 1597</h1><img src='http://commons.wikimedia.org/wiki/Special:FilePath/Shakespeare.jpg?width=300'/><h1>Silmarillion John Ronald Reuel Tolkien 1977</h1><img src='http://commons.wikimedia.org/wiki/Special:FilePath/Tolkien_1916.jpg?width=300'/><h1>Solaris (powieść) Stanisław Lem 1961</h1><img src='http://commons.wikimedia.org/wiki/Special:FilePath/Stanislaw_Lem_2.jpg?width=300'/><h1>Władca Pierścieni John Ronald Reuel Tolkien 1954</h1><img src='http://commons.wikimedia.org/wiki/Special:FilePath/Tolkien_1916.jpg?width=300'/><h1>Zew Cthulhu (opowiadanie) Howard Phillips Lovecraft 1928</h1><img src='http://commons.wikimedia.org/wiki/Special:FilePath/Howard_Phillips_Lovecraft_in_1915.jpg?width=300'/><h1>Znaczy Kapitan Karol Olgierd Borchardt 1960</h1><img src='http://commons.wikimedia.org/wiki/Special:FilePath/Karol_Olgierd_Borchardt's_house_in_Gdynia.jpg?width=300'/><h1>Anna Karenina Lew Tołstoj 1877</h1><img src='http://commons.wikimedia.org/wiki/Special:FilePath/Ilya_Efimovich_Repin_(1844-1930)_-_Portrait_of_Leo_Tolstoy_(1887).jpg?width=300'/><h1>Azazel (powieść) Boris Akunin 1998</h1><img src='http://commons.wikimedia.org/wiki/Special:FilePath/Boris_Akunin_2012.jpg?width=300'/><h1>Bezsenność (zbiór opowiadań) Stanisław Lem 1971</h1><img src='http://commons.wikimedia.org/wiki/Special:FilePath/Stanislaw_Lem_2.jpg?width=300'/><h1>Cała prawda o planecie Ksi Janusz Zajdel 1983</h1><img src='http://commons.wikimedia.org/wiki/Special:FilePath/Janusz_A_Zajdel.jpg?width=300'/><h1>Dekorator Boris Akunin 1998</h1><img src='http://commons.wikimedia.org/wiki/Special:FilePath/Boris_Akunin_2012.jpg?width=300'/><h1>Diamentowa karoca Boris Akunin 2003</h1><img src='http://commons.wikimedia.org/wiki/Special:FilePath/Boris_Akunin_2012.jpg?width=300'/><h1>Dives in misericordia Jan Paweł II 1980</h1><img src='http://commons.wikimedia.org/wiki/Special:FilePath/John_Paul_II_Medal_of_Freedom_2004.jpg?width=300'/><h1>Droga na molo w Wigan George Orwell 1937</h1><img src='http://commons.wikimedia.org/wiki/Special:FilePath/GeoreOrwell.jpg?width=300'/><h1>Druga Fundacja Isaac Asimov 1953</h1><img src='http://commons.wikimedia.org/wiki/Special:FilePath/Isaac.Asimov01.jpg?width=300'/><h1>Dwanaście krzeseł Ilja Ilf 1928</h1><img src='http://commons.wikimedia.org/wiki/Special:FilePath/Ilya_Ilf.jpg?width=300'/><h1>Fundacja (powieść) Isaac Asimov 1951</h1><img src='http://commons.wikimedia.org/wiki/Special:FilePath/Isaac.Asimov01.jpg?width=300'/><h1>Fundacja i Imperium Isaac Asimov 1952</h1><img src='http://commons.wikimedia.org/wiki/Special:FilePath/Isaac.Asimov01.jpg?width=300'/><h1>Gambit turecki Boris Akunin 1998</h1><img src='http://commons.wikimedia.org/wiki/Special:FilePath/Boris_Akunin_2012.jpg?width=300'/><h1>Głos Pana Stanisław Lem 1968</h1><img src='http://commons.wikimedia.org/wiki/Special:FilePath/Stanislaw_Lem_2.jpg?width=300'/><h1>Ich czworo Gabriela Zapolska 1907</h1><img src='http://commons.wikimedia.org/wiki/Special:FilePath/Gabriela_Zapolska.PNG?width=300'/><h1>Inwazja z Aldebarana (zbiór opowiadań) Stanisław Lem 1959</h1><img src='http://commons.wikimedia.org/wiki/Special:FilePath/Stanislaw_Lem_2.jpg?width=300'/><h1>Kamienna małpa Jeffery Deaver 2002</h1><img src='http://commons.wikimedia.org/wiki/Special:FilePath/Jeffery_Deaver_October_2006.jpg?width=300'/><h1>Katar (powieść) Stanisław Lem 1976</h1><img src='http://commons.wikimedia.org/wiki/Special:FilePath/Stanislaw_Lem_2.jpg?width=300'/><h1>Kochanek Śmierci Boris Akunin 2001</h1><img src='http://commons.wikimedia.org/wiki/Special:FilePath/Boris_Akunin_2012.jpg?width=300'/><h1>Kochanka Śmierci Boris Akunin 2001</h1><img src='http://commons.wikimedia.org/wiki/Special:FilePath/Boris_Akunin_2012.jpg?width=300'/><h1>Koronacja (powieść) Boris Akunin 1999</h1><img src='http://commons.wikimedia.org/wiki/Special:FilePath/Boris_Akunin_2012.jpg?width=300'/><h1>Kot w stanie czystym Terry Pratchett 1989</h1><img src='http://commons.wikimedia.org/wiki/Special:FilePath/Terry_Pratchett,_September_2009_1.jpg?width=300'/><h1>Koń i jego chłopiec Clive Staples Lewis 1954</h1><img src='http://commons.wikimedia.org/wiki/Special:FilePath/Statue_of_C.S._Lewis,_Belfast.jpg?width=300'/><h1>Księga robotów Stanisław Lem 1961</h1><img src='http://commons.wikimedia.org/wiki/Special:FilePath/Stanislaw_Lem_2.jpg?width=300'/><h1>Księgi narodu polskiego i pielgrzymstwa polskiego Adam Mickiewicz 1832</h1><img src=''/><h1>Kuzynki Andrzej Pilipiuk 2003</h1><img src='http://commons.wikimedia.org/wiki/Special:FilePath/Andrzej_Pilipiuk-Polcon2006.jpg?width=300'/><h1>Lewa ręka ciemności Ursula K. Le Guin 1969</h1><img src='http://commons.wikimedia.org/wiki/Special:FilePath/UrsulaLeGuin.01.jpg?width=300'/><h1>Lewiatan (powieść) Boris Akunin 1998</h1><img src='http://commons.wikimedia.org/wiki/Special:FilePath/Boris_Akunin_2012.jpg?width=300'/><h1>Mag (powieść J. Deavera) Jeffery Deaver 2003</h1><img src='http://commons.wikimedia.org/wiki/Special:FilePath/Jeffery_Deaver_October_2006.jpg?width=300'/><h1>Maska (zbiór dzieł) Stanisław Lem 1976</h1><img src='http://commons.wikimedia.org/wiki/Special:FilePath/Stanislaw_Lem_2.jpg?width=300'/><h1>Niezwyciężony i inne opowiadania Stanisław Lem 1964</h1><img src='http://commons.wikimedia.org/wiki/Special:FilePath/Stanislaw_Lem_2.jpg?width=300'/><h1>Noc księżycowa Stanisław Lem 1963</h1><img src='http://commons.wikimedia.org/wiki/Special:FilePath/Stanislaw_Lem_2.jpg?width=300'/><h1>Ojcowie i dzieci Iwan Turgieniew 0</h1><img src='http://commons.wikimedia.org/wiki/Special:FilePath/Turgenev_by_Repin.jpg?width=300'/><h1>Pamiętnik znaleziony w wannie Stanisław Lem 1961</h1><img src='http://commons.wikimedia.org/wiki/Special:FilePath/Stanislaw_Lem_2.jpg?width=300'/><h1>Pieśń Lodu i Ognia George R. R. Martin 1996</h1><img src='http://commons.wikimedia.org/wiki/Special:FilePath/George_R_R_Martin_2011_Shankbone.JPG?width=300'/><h1>Podróże z Herodotem Ryszard Kapuściński 2004</h1><img src='http://commons.wikimedia.org/wiki/Special:FilePath/Ryszard_Kapuscinski_by_Kubik_17.05.1997_-_cropped.jpg?width=300'/><h1>Polowanie (zbiór opowiadań) Stanisław Lem 1965</h1><img src='http://commons.wikimedia.org/wiki/Special:FilePath/Stanislaw_Lem_2.jpg?width=300'/><h1>Powtórka (zbiór dzieł) Stanisław Lem 1979</h1><img src='http://commons.wikimedia.org/wiki/Special:FilePath/Stanislaw_Lem_2.jpg?width=300'/><h1>Pożytek ze smoka Stanisław Lem 1993</h1><img src='http://commons.wikimedia.org/wiki/Special:FilePath/Stanislaw_Lem_2.jpg?width=300'/><h1>Preludium Fundacji Isaac Asimov 1988</h1><img src='http://commons.wikimedia.org/wiki/Special:FilePath/Isaac.Asimov01.jpg?width=300'/><h1>Radca stanu (powieść) Boris Akunin 1998</h1><img src='http://commons.wikimedia.org/wiki/Special:FilePath/Boris_Akunin_2012.jpg?width=300'/><h1>Rasa drapieżców. Teksty ostatnie Stanisław Lem 2006</h1><img src='http://commons.wikimedia.org/wiki/Special:FilePath/Stanislaw_Lem_2.jpg?width=300'/><h1>Rilla ze Złotego Brzegu Lucy Maud Montgomery 1921</h1><img src='http://commons.wikimedia.org/wiki/Special:FilePath/Lucy_Maud_Montgomery.JPG?width=300'/><h1>Sen nocy letniej William Szekspir 1600</h1><img src='http://commons.wikimedia.org/wiki/Special:FilePath/Shakespeare.jpg?width=300'/><h1>Sezam i inne opowiadania Stanisław Lem 1954</h1><img src='http://commons.wikimedia.org/wiki/Special:FilePath/Stanislaw_Lem_2.jpg?width=300'/><h1>Slavorum apostoli Jan Paweł II 1985</h1><img src='http://commons.wikimedia.org/wiki/Special:FilePath/John_Paul_II_Medal_of_Freedom_2004.jpg?width=300'/><h1>Summa technologiae Stanisław Lem 1964</h1><img src='http://commons.wikimedia.org/wiki/Special:FilePath/Stanislaw_Lem_2.jpg?width=300'/><h1>Tam gdzie spadają anioły Dorota Terakowska 1998</h1><img src='http://commons.wikimedia.org/wiki/Special:FilePath/Dorota_Terakowska_grob.jpg?width=300'/><h1>Tomek u źródeł Amazonki Alfred Szklarski 1967</h1><img src='http://commons.wikimedia.org/wiki/Special:FilePath/Katowice_-_pomnik_Alfred_Szklarski.JPG?width=300'/><h1>Tomek w Gran Chaco Alfred Szklarski 1987</h1><img src='http://commons.wikimedia.org/wiki/Special:FilePath/Katowice_-_pomnik_Alfred_Szklarski.JPG?width=300'/><h1>Tomek w grobowcach faraonów Alfred Szklarski 1994</h1><img src='http://commons.wikimedia.org/wiki/Special:FilePath/Katowice_-_pomnik_Alfred_Szklarski.JPG?width=300'/><h1>Ut unum sint Jan Paweł II 1995</h1><img src='http://commons.wikimedia.org/wiki/Special:FilePath/John_Paul_II_Medal_of_Freedom_2004.jpg?width=300'/><h1>Veritatis splendor Jan Paweł II 1993</h1><img src='http://commons.wikimedia.org/wiki/Special:FilePath/John_Paul_II_Medal_of_Freedom_2004.jpg?width=300'/><h1>Walc stulecia Rafał A. Ziemkiewicz 1998</h1><img src='http://commons.wikimedia.org/wiki/Special:FilePath/Rafał_Ziemkiewicz.jpg?width=300'/><h1>Walet pikowy (powieść) Boris Akunin 1998</h1><img src='http://commons.wikimedia.org/wiki/Special:FilePath/Boris_Akunin_2012.jpg?width=300'/><h1>Wampir Lestat Anne Rice 1985</h1><img src='http://commons.wikimedia.org/wiki/Special:FilePath/Anne_Rice.jpg?width=300'/><h1>Wizja lokalna (powieść) Stanisław Lem 1982</h1><img src='http://commons.wikimedia.org/wiki/Special:FilePath/Stanislaw_Lem_2.jpg?width=300'/><h1>Wojna i pokój Lew Tołstoj 1865</h1><img src='http://commons.wikimedia.org/wiki/Special:FilePath/Ilya_Efimovich_Repin_(1844-1930)_-_Portrait_of_Leo_Tolstoy_(1887).jpg?width=300'/><h1>Śmierć Achillesa Boris Akunin 1998</h1><img src='http://commons.wikimedia.org/wiki/Special:FilePath/Boris_Akunin_2012.jpg?width=300'/><h1>Życie i przygody Remusa Aleksander Majkowski 1938</h1><img src='http://commons.wikimedia.org/wiki/Special:FilePath/POL_Polonia_Restituta_Oficerski_BAR.svg?width=300'/><h1>Casino Royale (powieść) Ian Fleming 1953</h1><img src='http://commons.wikimedia.org/wiki/Special:FilePath/For_Your_Eyes_Only.jpg?width=300'/><h1>Cień kata Gene Wolfe 1980</h1><img src='http://commons.wikimedia.org/wiki/Special:FilePath/Gene_Wolfe,_2005.png?width=300'/><h1>Czarnoksiężnik z Archipelagu Ursula K. Le Guin 1968</h1><img src='http://commons.wikimedia.org/wiki/Special:FilePath/UrsulaLeGuin.01.jpg?width=300'/><h1>Czarownica z Portobello Paulo Coelho 2006</h1><img src='http://commons.wikimedia.org/wiki/Special:FilePath/Paulo_Coelho_nrkbeta.jpg?width=300'/><h1>Czas patriotów (powieść) Tom Clancy 1987</h1><img src='http://commons.wikimedia.org/wiki/Special:FilePath/Tom_Clancy_at_Burns_Library_cropped.jpg?width=300'/>"
      ],
      "text/plain": [
       "\"<h1>Végjáték (regény) Orson Scott Card </h1><img src='http://commons.wikimedia.org/wiki/Special:FilePath/Orson_Scott_Card_at_BYU_Symposium_20080216_closeup.jpg?width=300'/><h1>Pani Jeziora (powieść) Andrzej Sapkowski 1999</h1><img src='http://commons.wikimedia.org/wiki/Special:FilePath/Sapkowski.jpg?width=300'/><h1>Bellew Zawierucha Jack London 1912</h1><img src='http://commons.wikimedia.org/wiki/Special:FilePath/JackLondon02.jpeg?width=300'/><h1>Fałszywy trop (powieść) Henning Mankell 1995</h1><img src='http://commons.wikimedia.org/wiki/Special:FilePath/Henning_Mankell_3_2011_Shankbone.jpg?width=300'/><h1>Bajki robotów Stanisław Lem 1964</h1><img src='http://commons.wikimedia.org/wiki/Special:FilePath/Stanislaw_Lem_2.jpg?width=300'/><h1>Bolesław Chrobry (powieść) Antoni Gołubiew 1947</h1><img src='http://commons.wikimedia.org/wiki/Special:FilePath/Antoni_Golubiew.jpg?width=300'/><h1>De revolutionibus orbium coelestium Mikołaj Kopernik 1543</h1><img src='http://commons.wikimedia.org/wiki/Special:FilePath/Nikolaus_Kopernikus.jpg?width=300'/><h1>Dzieło Wielkiego Miłosierdzia Maria Franciszka Kozłowska 1922</h1><img src='http://commons.wikimedia.org/wiki/Special:FilePath/Mateczk_Kozłowska.JPG?width=300'/><h1>Folwark zwierzęcy George Orwell 1945</h1><img src='http://commons.wikimedia.org/wiki/Special:FilePath/GeoreOrwell.jpg?width=300'/><h1>Hamlet William Szekspir </h1><img src='http://commons.wikimedia.org/wiki/Special:FilePath/Shakespeare.jpg?width=300'/><h1>Harry Potter J. K. Rowling 1997</h1><img src='http://commons.wikimedia.org/wiki/Special:FilePath/J._K._Rowling_2010.jpg?width=300'/><h1>Hobbit, czyli tam i z powrotem John Ronald Reuel Tolkien 1937</h1><img src='http://commons.wikimedia.org/wiki/Special:FilePath/Tolkien_1916.jpg?width=300'/><h1>Hrabia Monte Christo Aleksander Dumas (ojciec) 1844</h1><img src='http://commons.wikimedia.org/wiki/Special:FilePath/Dumas_by_Nadar,_1855.jpg?width=300'/><h1>Kariera Nikodema Dyzmy Tadeusz Dołęga-Mostowicz 1932</h1><img src='http://commons.wikimedia.org/wiki/Special:FilePath/Tadeusz_Dolega-Mostowicz.jpg?width=300'/><h1>Krzyżacy (powieść) Henryk Sienkiewicz 1900</h1><img src=''/><h1>Lolita Vladimir Nabokov 1955</h1><img src='http://commons.wikimedia.org/wiki/Special:FilePath/Monument_Nabokov_Montreux_23.12.2006.jpg?width=300'/><h1>Mein Kampf Adolf Hitler 1925</h1><img src='http://commons.wikimedia.org/wiki/Special:FilePath/Hitler_portrait_crop.jpg?width=300'/><h1>Nad Niemnem Eliza Orzeszkowa 1888</h1><img src=''/><h1>Niedokończone opowieści Christopher Tolkien 1980</h1><img src=''/><h1>Nowe Ateny Benedykt Chmielowski 1745</h1><img src='http://commons.wikimedia.org/wiki/Special:FilePath/POL_COA_Nałęcz.svg?width=300'/><h1>Nowy wspaniały świat Aldous Huxley 1932</h1><img src='http://commons.wikimedia.org/wiki/Special:FilePath/Aldous_Huxley.JPG?width=300'/><h1>Ogniem i mieczem Henryk Sienkiewicz 1884</h1><img src=''/><h1>Ojciec Goriot Honoré de Balzac 1835</h1><img src='http://commons.wikimedia.org/wiki/Special:FilePath/HBalzac.jpg?width=300'/><h1>Proces (powieść) Franz Kafka 1925</h1><img src='http://commons.wikimedia.org/wiki/Special:FilePath/Kafka1906.jpg?width=300'/><h1>Psałterz Dawidów Jan Kochanowski 1579</h1><img src='http://commons.wikimedia.org/wiki/Special:FilePath/Jan_Kochanowski.png?width=300'/><h1>Quo vadis Henryk Sienkiewicz 1896</h1><img src=''/><h1>Romeo i Julia William Szekspir 1597</h1><img src='http://commons.wikimedia.org/wiki/Special:FilePath/Shakespeare.jpg?width=300'/><h1>Silmarillion John Ronald Reuel Tolkien 1977</h1><img src='http://commons.wikimedia.org/wiki/Special:FilePath/Tolkien_1916.jpg?width=300'/><h1>Solaris (powieść) Stanisław Lem 1961</h1><img src='http://commons.wikimedia.org/wiki/Special:FilePath/Stanislaw_Lem_2.jpg?width=300'/><h1>Władca Pierścieni John Ronald Reuel Tolkien 1954</h1><img src='http://commons.wikimedia.org/wiki/Special:FilePath/Tolkien_1916.jpg?width=300'/><h1>Zew Cthulhu (opowiadanie) Howard Phillips Lovecraft 1928</h1><img src='http://commons.wikimedia.org/wiki/Special:FilePath/Howard_Phillips_Lovecraft_in_1915.jpg?width=300'/><h1>Znaczy Kapitan Karol Olgierd Borchardt 1960</h1><img src='http://commons.wikimedia.org/wiki/Special:FilePath/Karol_Olgierd_Borchardt's_house_in_Gdynia.jpg?width=300'/><h1>Anna Karenina Lew Tołstoj 1877</h1><img src='http://commons.wikimedia.org/wiki/Special:FilePath/Ilya_Efimovich_Repin_(1844-1930)_-_Portrait_of_Leo_Tolstoy_(1887).jpg?width=300'/><h1>Azazel (powieść) Boris Akunin 1998</h1><img src='http://commons.wikimedia.org/wiki/Special:FilePath/Boris_Akunin_2012.jpg?width=300'/><h1>Bezsenność (zbiór opowiadań) Stanisław Lem 1971</h1><img src='http://commons.wikimedia.org/wiki/Special:FilePath/Stanislaw_Lem_2.jpg?width=300'/><h1>Cała prawda o planecie Ksi Janusz Zajdel 1983</h1><img src='http://commons.wikimedia.org/wiki/Special:FilePath/Janusz_A_Zajdel.jpg?width=300'/><h1>Dekorator Boris Akunin 1998</h1><img src='http://commons.wikimedia.org/wiki/Special:FilePath/Boris_Akunin_2012.jpg?width=300'/><h1>Diamentowa karoca Boris Akunin 2003</h1><img src='http://commons.wikimedia.org/wiki/Special:FilePath/Boris_Akunin_2012.jpg?width=300'/><h1>Dives in misericordia Jan Paweł II 1980</h1><img src='http://commons.wikimedia.org/wiki/Special:FilePath/John_Paul_II_Medal_of_Freedom_2004.jpg?width=300'/><h1>Droga na molo w Wigan George Orwell 1937</h1><img src='http://commons.wikimedia.org/wiki/Special:FilePath/GeoreOrwell.jpg?width=300'/><h1>Druga Fundacja Isaac Asimov 1953</h1><img src='http://commons.wikimedia.org/wiki/Special:FilePath/Isaac.Asimov01.jpg?width=300'/><h1>Dwanaście krzeseł Ilja Ilf 1928</h1><img src='http://commons.wikimedia.org/wiki/Special:FilePath/Ilya_Ilf.jpg?width=300'/><h1>Fundacja (powieść) Isaac Asimov 1951</h1><img src='http://commons.wikimedia.org/wiki/Special:FilePath/Isaac.Asimov01.jpg?width=300'/><h1>Fundacja i Imperium Isaac Asimov 1952</h1><img src='http://commons.wikimedia.org/wiki/Special:FilePath/Isaac.Asimov01.jpg?width=300'/><h1>Gambit turecki Boris Akunin 1998</h1><img src='http://commons.wikimedia.org/wiki/Special:FilePath/Boris_Akunin_2012.jpg?width=300'/><h1>Głos Pana Stanisław Lem 1968</h1><img src='http://commons.wikimedia.org/wiki/Special:FilePath/Stanislaw_Lem_2.jpg?width=300'/><h1>Ich czworo Gabriela Zapolska 1907</h1><img src='http://commons.wikimedia.org/wiki/Special:FilePath/Gabriela_Zapolska.PNG?width=300'/><h1>Inwazja z Aldebarana (zbiór opowiadań) Stanisław Lem 1959</h1><img src='http://commons.wikimedia.org/wiki/Special:FilePath/Stanislaw_Lem_2.jpg?width=300'/><h1>Kamienna małpa Jeffery Deaver 2002</h1><img src='http://commons.wikimedia.org/wiki/Special:FilePath/Jeffery_Deaver_October_2006.jpg?width=300'/><h1>Katar (powieść) Stanisław Lem 1976</h1><img src='http://commons.wikimedia.org/wiki/Special:FilePath/Stanislaw_Lem_2.jpg?width=300'/><h1>Kochanek Śmierci Boris Akunin 2001</h1><img src='http://commons.wikimedia.org/wiki/Special:FilePath/Boris_Akunin_2012.jpg?width=300'/><h1>Kochanka Śmierci Boris Akunin 2001</h1><img src='http://commons.wikimedia.org/wiki/Special:FilePath/Boris_Akunin_2012.jpg?width=300'/><h1>Koronacja (powieść) Boris Akunin 1999</h1><img src='http://commons.wikimedia.org/wiki/Special:FilePath/Boris_Akunin_2012.jpg?width=300'/><h1>Kot w stanie czystym Terry Pratchett 1989</h1><img src='http://commons.wikimedia.org/wiki/Special:FilePath/Terry_Pratchett,_September_2009_1.jpg?width=300'/><h1>Koń i jego chłopiec Clive Staples Lewis 1954</h1><img src='http://commons.wikimedia.org/wiki/Special:FilePath/Statue_of_C.S._Lewis,_Belfast.jpg?width=300'/><h1>Księga robotów Stanisław Lem 1961</h1><img src='http://commons.wikimedia.org/wiki/Special:FilePath/Stanislaw_Lem_2.jpg?width=300'/><h1>Księgi narodu polskiego i pielgrzymstwa polskiego Adam Mickiewicz 1832</h1><img src=''/><h1>Kuzynki Andrzej Pilipiuk 2003</h1><img src='http://commons.wikimedia.org/wiki/Special:FilePath/Andrzej_Pilipiuk-Polcon2006.jpg?width=300'/><h1>Lewa ręka ciemności Ursula K. Le Guin 1969</h1><img src='http://commons.wikimedia.org/wiki/Special:FilePath/UrsulaLeGuin.01.jpg?width=300'/><h1>Lewiatan (powieść) Boris Akunin 1998</h1><img src='http://commons.wikimedia.org/wiki/Special:FilePath/Boris_Akunin_2012.jpg?width=300'/><h1>Mag (powieść J. Deavera) Jeffery Deaver 2003</h1><img src='http://commons.wikimedia.org/wiki/Special:FilePath/Jeffery_Deaver_October_2006.jpg?width=300'/><h1>Maska (zbiór dzieł) Stanisław Lem 1976</h1><img src='http://commons.wikimedia.org/wiki/Special:FilePath/Stanislaw_Lem_2.jpg?width=300'/><h1>Niezwyciężony i inne opowiadania Stanisław Lem 1964</h1><img src='http://commons.wikimedia.org/wiki/Special:FilePath/Stanislaw_Lem_2.jpg?width=300'/><h1>Noc księżycowa Stanisław Lem 1963</h1><img src='http://commons.wikimedia.org/wiki/Special:FilePath/Stanislaw_Lem_2.jpg?width=300'/><h1>Ojcowie i dzieci Iwan Turgieniew 0</h1><img src='http://commons.wikimedia.org/wiki/Special:FilePath/Turgenev_by_Repin.jpg?width=300'/><h1>Pamiętnik znaleziony w wannie Stanisław Lem 1961</h1><img src='http://commons.wikimedia.org/wiki/Special:FilePath/Stanislaw_Lem_2.jpg?width=300'/><h1>Pieśń Lodu i Ognia George R. R. Martin 1996</h1><img src='http://commons.wikimedia.org/wiki/Special:FilePath/George_R_R_Martin_2011_Shankbone.JPG?width=300'/><h1>Podróże z Herodotem Ryszard Kapuściński 2004</h1><img src='http://commons.wikimedia.org/wiki/Special:FilePath/Ryszard_Kapuscinski_by_Kubik_17.05.1997_-_cropped.jpg?width=300'/><h1>Polowanie (zbiór opowiadań) Stanisław Lem 1965</h1><img src='http://commons.wikimedia.org/wiki/Special:FilePath/Stanislaw_Lem_2.jpg?width=300'/><h1>Powtórka (zbiór dzieł) Stanisław Lem 1979</h1><img src='http://commons.wikimedia.org/wiki/Special:FilePath/Stanislaw_Lem_2.jpg?width=300'/><h1>Pożytek ze smoka Stanisław Lem 1993</h1><img src='http://commons.wikimedia.org/wiki/Special:FilePath/Stanislaw_Lem_2.jpg?width=300'/><h1>Preludium Fundacji Isaac Asimov 1988</h1><img src='http://commons.wikimedia.org/wiki/Special:FilePath/Isaac.Asimov01.jpg?width=300'/><h1>Radca stanu (powieść) Boris Akunin 1998</h1><img src='http://commons.wikimedia.org/wiki/Special:FilePath/Boris_Akunin_2012.jpg?width=300'/><h1>Rasa drapieżców. Teksty ostatnie Stanisław Lem 2006</h1><img src='http://commons.wikimedia.org/wiki/Special:FilePath/Stanislaw_Lem_2.jpg?width=300'/><h1>Rilla ze Złotego Brzegu Lucy Maud Montgomery 1921</h1><img src='http://commons.wikimedia.org/wiki/Special:FilePath/Lucy_Maud_Montgomery.JPG?width=300'/><h1>Sen nocy letniej William Szekspir 1600</h1><img src='http://commons.wikimedia.org/wiki/Special:FilePath/Shakespeare.jpg?width=300'/><h1>Sezam i inne opowiadania Stanisław Lem 1954</h1><img src='http://commons.wikimedia.org/wiki/Special:FilePath/Stanislaw_Lem_2.jpg?width=300'/><h1>Slavorum apostoli Jan Paweł II 1985</h1><img src='http://commons.wikimedia.org/wiki/Special:FilePath/John_Paul_II_Medal_of_Freedom_2004.jpg?width=300'/><h1>Summa technologiae Stanisław Lem 1964</h1><img src='http://commons.wikimedia.org/wiki/Special:FilePath/Stanislaw_Lem_2.jpg?width=300'/><h1>Tam gdzie spadają anioły Dorota Terakowska 1998</h1><img src='http://commons.wikimedia.org/wiki/Special:FilePath/Dorota_Terakowska_grob.jpg?width=300'/><h1>Tomek u źródeł Amazonki Alfred Szklarski 1967</h1><img src='http://commons.wikimedia.org/wiki/Special:FilePath/Katowice_-_pomnik_Alfred_Szklarski.JPG?width=300'/><h1>Tomek w Gran Chaco Alfred Szklarski 1987</h1><img src='http://commons.wikimedia.org/wiki/Special:FilePath/Katowice_-_pomnik_Alfred_Szklarski.JPG?width=300'/><h1>Tomek w grobowcach faraonów Alfred Szklarski 1994</h1><img src='http://commons.wikimedia.org/wiki/Special:FilePath/Katowice_-_pomnik_Alfred_Szklarski.JPG?width=300'/><h1>Ut unum sint Jan Paweł II 1995</h1><img src='http://commons.wikimedia.org/wiki/Special:FilePath/John_Paul_II_Medal_of_Freedom_2004.jpg?width=300'/><h1>Veritatis splendor Jan Paweł II 1993</h1><img src='http://commons.wikimedia.org/wiki/Special:FilePath/John_Paul_II_Medal_of_Freedom_2004.jpg?width=300'/><h1>Walc stulecia Rafał A. Ziemkiewicz 1998</h1><img src='http://commons.wikimedia.org/wiki/Special:FilePath/Rafał_Ziemkiewicz.jpg?width=300'/><h1>Walet pikowy (powieść) Boris Akunin 1998</h1><img src='http://commons.wikimedia.org/wiki/Special:FilePath/Boris_Akunin_2012.jpg?width=300'/><h1>Wampir Lestat Anne Rice 1985</h1><img src='http://commons.wikimedia.org/wiki/Special:FilePath/Anne_Rice.jpg?width=300'/><h1>Wizja lokalna (powieść) Stanisław Lem 1982</h1><img src='http://commons.wikimedia.org/wiki/Special:FilePath/Stanislaw_Lem_2.jpg?width=300'/><h1>Wojna i pokój Lew Tołstoj 1865</h1><img src='http://commons.wikimedia.org/wiki/Special:FilePath/Ilya_Efimovich_Repin_(1844-1930)_-_Portrait_of_Leo_Tolstoy_(1887).jpg?width=300'/><h1>Śmierć Achillesa Boris Akunin 1998</h1><img src='http://commons.wikimedia.org/wiki/Special:FilePath/Boris_Akunin_2012.jpg?width=300'/><h1>Życie i przygody Remusa Aleksander Majkowski 1938</h1><img src='http://commons.wikimedia.org/wiki/Special:FilePath/POL_Polonia_Restituta_Oficerski_BAR.svg?width=300'/><h1>Casino Royale (powieść) Ian Fleming 1953</h1><img src='http://commons.wikimedia.org/wiki/Special:FilePath/For_Your_Eyes_Only.jpg?width=300'/><h1>Cień kata Gene Wolfe 1980</h1><img src='http://commons.wikimedia.org/wiki/Special:FilePath/Gene_Wolfe,_2005.png?width=300'/><h1>Czarnoksiężnik z Archipelagu Ursula K. Le Guin 1968</h1><img src='http://commons.wikimedia.org/wiki/Special:FilePath/UrsulaLeGuin.01.jpg?width=300'/><h1>Czarownica z Portobello Paulo Coelho 2006</h1><img src='http://commons.wikimedia.org/wiki/Special:FilePath/Paulo_Coelho_nrkbeta.jpg?width=300'/><h1>Czas patriotów (powieść) Tom Clancy 1987</h1><img src='http://commons.wikimedia.org/wiki/Special:FilePath/Tom_Clancy_at_Burns_Library_cropped.jpg?width=300'/>\""
      ]
     },
     "execution_count": 34,
     "metadata": {},
     "output_type": "execute_result"
    }
   ],
   "source": [
    "def display_book(books)\n",
    "  html = \"\"\n",
    "  books.each do |book|\n",
    "    html << \"<h1>#{book.title} #{book.author.name} #{book.author.surname} #{book.published}</h1><img src='#{book.author.image_url}'/>\" \n",
    "  end\n",
    "  html\n",
    "end\n",
    "\n",
    "books = Book.all\n",
    "document = display_book(books)\n",
    "IRuby.html document"
   ]
  },
  {
   "cell_type": "markdown",
   "metadata": {},
   "source": [
    "### Zadanie 10"
   ]
  },
  {
   "cell_type": "markdown",
   "metadata": {},
   "source": [
    "Wyświetl wszystkich autorów znajdujących się w bazie wraz z opisem zawierającym ich zdjęcie, datę urodzin i śmierci oraz spis \n",
    "opublikowanych książek. Pamiętaj o odpowiednim sformatowaniu dat oraz o tym, że nie wszyscy autorzy mają przypisane wszystkie\n",
    "informacje."
   ]
  },
  {
   "cell_type": "code",
   "execution_count": 40,
   "metadata": {
    "collapsed": false
   },
   "outputs": [
    {
     "data": {
      "text/html": [
       "<h1>Adam Mickiewicz</h1>\n",
       "   <h3>1798-12-24 1855-11-26</h3>\n",
       "   <img src=''/><ul><li><h2>Księgi narodu polskiego i pielgrzymstwa polskiego</h2> <h3>1832</h3></li></ul><h1>Juliusz Słowacki</h1>\n",
       "   <h3>1809-09-04 1849-04-03</h3>\n",
       "   <img src=''/><h1>Henryk Sienkiewicz</h1>\n",
       "   <h3>1846-05-05 1916-11-15</h3>\n",
       "   <img src=''/><ul><li><h2>Krzyżacy (powieść)</h2> <h3>1900</h3></li></ul><ul><li><h2>Ogniem i mieczem</h2> <h3>1884</h3></li></ul><ul><li><h2>Quo vadis</h2> <h3>1896</h3></li></ul><h1>Eliza Orzeszkowa</h1>\n",
       "   <h3>1841-06-06 1910-05-18</h3>\n",
       "   <img src=''/><ul><li><h2>Nad Niemnem</h2> <h3>1888</h3></li></ul><h1>Orson Scott Card</h1>\n",
       "   <h3>1951-08-24 </h3>\n",
       "   <img src='http://commons.wikimedia.org/wiki/Special:FilePath/Orson_Scott_Card_at_BYU_Symposium_20080216_closeup.jpg?width=300'/><ul><li><h2>Végjáték (regény)</h2> <h3></h3></li></ul><h1>Andrzej Sapkowski</h1>\n",
       "   <h3>1948-06-21 </h3>\n",
       "   <img src='http://commons.wikimedia.org/wiki/Special:FilePath/Sapkowski.jpg?width=300'/><ul><li><h2>Pani Jeziora (powieść)</h2> <h3>1999</h3></li></ul><h1>Jack London</h1>\n",
       "   <h3>1876-01-12 1916-11-22</h3>\n",
       "   <img src='http://commons.wikimedia.org/wiki/Special:FilePath/JackLondon02.jpeg?width=300'/><ul><li><h2>Bellew Zawierucha</h2> <h3>1912</h3></li></ul><h1>Henning Mankell</h1>\n",
       "   <h3>1948-02-03 </h3>\n",
       "   <img src='http://commons.wikimedia.org/wiki/Special:FilePath/Henning_Mankell_3_2011_Shankbone.jpg?width=300'/><ul><li><h2>Fałszywy trop (powieść)</h2> <h3>1995</h3></li></ul><h1>Stanisław Lem</h1>\n",
       "   <h3>1921-09-12 2006-03-27</h3>\n",
       "   <img src='http://commons.wikimedia.org/wiki/Special:FilePath/Stanislaw_Lem_2.jpg?width=300'/><ul><li><h2>Bajki robotów</h2> <h3>1964</h3></li></ul><ul><li><h2>Solaris (powieść)</h2> <h3>1961</h3></li></ul><ul><li><h2>Bezsenność (zbiór opowiadań)</h2> <h3>1971</h3></li></ul><ul><li><h2>Głos Pana</h2> <h3>1968</h3></li></ul><ul><li><h2>Inwazja z Aldebarana (zbiór opowiadań)</h2> <h3>1959</h3></li></ul><ul><li><h2>Katar (powieść)</h2> <h3>1976</h3></li></ul><ul><li><h2>Księga robotów</h2> <h3>1961</h3></li></ul><ul><li><h2>Maska (zbiór dzieł)</h2> <h3>1976</h3></li></ul><ul><li><h2>Niezwyciężony i inne opowiadania</h2> <h3>1964</h3></li></ul><ul><li><h2>Noc księżycowa</h2> <h3>1963</h3></li></ul><ul><li><h2>Pamiętnik znaleziony w wannie</h2> <h3>1961</h3></li></ul><ul><li><h2>Polowanie (zbiór opowiadań)</h2> <h3>1965</h3></li></ul><ul><li><h2>Powtórka (zbiór dzieł)</h2> <h3>1979</h3></li></ul><ul><li><h2>Pożytek ze smoka</h2> <h3>1993</h3></li></ul><ul><li><h2>Rasa drapieżców. Teksty ostatnie</h2> <h3>2006</h3></li></ul><ul><li><h2>Sezam i inne opowiadania</h2> <h3>1954</h3></li></ul><ul><li><h2>Summa technologiae</h2> <h3>1964</h3></li></ul><ul><li><h2>Wizja lokalna (powieść)</h2> <h3>1982</h3></li></ul><h1>Antoni Gołubiew</h1>\n",
       "   <h3>1907-02-25 1979-06-27</h3>\n",
       "   <img src='http://commons.wikimedia.org/wiki/Special:FilePath/Antoni_Golubiew.jpg?width=300'/><ul><li><h2>Bolesław Chrobry (powieść)</h2> <h3>1947</h3></li></ul><h1>Mikołaj Kopernik</h1>\n",
       "   <h3>1473-02-19 1543-05-24</h3>\n",
       "   <img src='http://commons.wikimedia.org/wiki/Special:FilePath/Nikolaus_Kopernikus.jpg?width=300'/><ul><li><h2>De revolutionibus orbium coelestium</h2> <h3>1543</h3></li></ul><h1>Maria Franciszka Kozłowska</h1>\n",
       "   <h3>1862-05-27 </h3>\n",
       "   <img src='http://commons.wikimedia.org/wiki/Special:FilePath/Mateczk_Kozłowska.JPG?width=300'/><ul><li><h2>Dzieło Wielkiego Miłosierdzia</h2> <h3>1922</h3></li></ul><h1>George Orwell</h1>\n",
       "   <h3>1903-06-25 1950-01-21</h3>\n",
       "   <img src='http://commons.wikimedia.org/wiki/Special:FilePath/GeoreOrwell.jpg?width=300'/><ul><li><h2>Folwark zwierzęcy</h2> <h3>1945</h3></li></ul><ul><li><h2>Droga na molo w Wigan</h2> <h3>1937</h3></li></ul><h1>William Szekspir</h1>\n",
       "   <h3>1564-04-23 1616-05-03</h3>\n",
       "   <img src='http://commons.wikimedia.org/wiki/Special:FilePath/Shakespeare.jpg?width=300'/><ul><li><h2>Hamlet</h2> <h3></h3></li></ul><ul><li><h2>Romeo i Julia</h2> <h3>1597</h3></li></ul><ul><li><h2>Sen nocy letniej</h2> <h3>1600</h3></li></ul><h1>J. K. Rowling</h1>\n",
       "   <h3>1965-07-31 </h3>\n",
       "   <img src='http://commons.wikimedia.org/wiki/Special:FilePath/J._K._Rowling_2010.jpg?width=300'/><ul><li><h2>Harry Potter</h2> <h3>1997</h3></li></ul><h1>John Ronald Reuel Tolkien</h1>\n",
       "   <h3>1892-01-03 1973-09-02</h3>\n",
       "   <img src='http://commons.wikimedia.org/wiki/Special:FilePath/Tolkien_1916.jpg?width=300'/><ul><li><h2>Hobbit, czyli tam i z powrotem</h2> <h3>1937</h3></li></ul><ul><li><h2>Silmarillion</h2> <h3>1977</h3></li></ul><ul><li><h2>Władca Pierścieni</h2> <h3>1954</h3></li></ul><h1>Aleksander Dumas (ojciec)</h1>\n",
       "   <h3>1802-07-24 1870-12-05</h3>\n",
       "   <img src='http://commons.wikimedia.org/wiki/Special:FilePath/Dumas_by_Nadar,_1855.jpg?width=300'/><ul><li><h2>Hrabia Monte Christo</h2> <h3>1844</h3></li></ul><h1>Tadeusz Dołęga-Mostowicz</h1>\n",
       "   <h3>1898-08-10 1939-09-20</h3>\n",
       "   <img src='http://commons.wikimedia.org/wiki/Special:FilePath/Tadeusz_Dolega-Mostowicz.jpg?width=300'/><ul><li><h2>Kariera Nikodema Dyzmy</h2> <h3>1932</h3></li></ul><h1>Vladimir Nabokov</h1>\n",
       "   <h3>1899-04-22 1977-07-02</h3>\n",
       "   <img src='http://commons.wikimedia.org/wiki/Special:FilePath/Monument_Nabokov_Montreux_23.12.2006.jpg?width=300'/><ul><li><h2>Lolita</h2> <h3>1955</h3></li></ul><h1>Adolf Hitler</h1>\n",
       "   <h3>1889-04-20 1945-04-30</h3>\n",
       "   <img src='http://commons.wikimedia.org/wiki/Special:FilePath/Hitler_portrait_crop.jpg?width=300'/><ul><li><h2>Mein Kampf</h2> <h3>1925</h3></li></ul><h1>Christopher Tolkien</h1>\n",
       "   <h3>1924-11-21 </h3>\n",
       "   <img src=''/><ul><li><h2>Niedokończone opowieści</h2> <h3>1980</h3></li></ul><h1>Benedykt Chmielowski</h1>\n",
       "   <h3>1700-03-20 1763-04-07</h3>\n",
       "   <img src='http://commons.wikimedia.org/wiki/Special:FilePath/POL_COA_Nałęcz.svg?width=300'/><ul><li><h2>Nowe Ateny</h2> <h3>1745</h3></li></ul><h1>Aldous Huxley</h1>\n",
       "   <h3>1894-07-26 1963-11-22</h3>\n",
       "   <img src='http://commons.wikimedia.org/wiki/Special:FilePath/Aldous_Huxley.JPG?width=300'/><ul><li><h2>Nowy wspaniały świat</h2> <h3>1932</h3></li></ul><h1>Honoré de Balzac</h1>\n",
       "   <h3>1799-05-20 1850-08-18</h3>\n",
       "   <img src='http://commons.wikimedia.org/wiki/Special:FilePath/HBalzac.jpg?width=300'/><ul><li><h2>Ojciec Goriot</h2> <h3>1835</h3></li></ul><h1>Franz Kafka</h1>\n",
       "   <h3>1883-07-03 1924-06-03</h3>\n",
       "   <img src='http://commons.wikimedia.org/wiki/Special:FilePath/Kafka1906.jpg?width=300'/><ul><li><h2>Proces (powieść)</h2> <h3>1925</h3></li></ul><h1>Jan Kochanowski</h1>\n",
       "   <h3> 1584-08-22</h3>\n",
       "   <img src='http://commons.wikimedia.org/wiki/Special:FilePath/Jan_Kochanowski.png?width=300'/><ul><li><h2>Psałterz Dawidów</h2> <h3>1579</h3></li></ul><h1>Howard Phillips Lovecraft</h1>\n",
       "   <h3>1890-08-20 1937-03-15</h3>\n",
       "   <img src='http://commons.wikimedia.org/wiki/Special:FilePath/Howard_Phillips_Lovecraft_in_1915.jpg?width=300'/><ul><li><h2>Zew Cthulhu (opowiadanie)</h2> <h3>1928</h3></li></ul><h1>Karol Olgierd Borchardt</h1>\n",
       "   <h3>1905-03-25 1986-05-20</h3>\n",
       "   <img src='http://commons.wikimedia.org/wiki/Special:FilePath/Karol_Olgierd_Borchardt's_house_in_Gdynia.jpg?width=300'/><ul><li><h2>Znaczy Kapitan</h2> <h3>1960</h3></li></ul><h1>Lew Tołstoj</h1>\n",
       "   <h3>1828-09-09 1910-11-20</h3>\n",
       "   <img src='http://commons.wikimedia.org/wiki/Special:FilePath/Ilya_Efimovich_Repin_(1844-1930)_-_Portrait_of_Leo_Tolstoy_(1887).jpg?width=300'/><ul><li><h2>Anna Karenina</h2> <h3>1877</h3></li></ul><ul><li><h2>Wojna i pokój</h2> <h3>1865</h3></li></ul><h1>Boris Akunin</h1>\n",
       "   <h3>1956-05-20 </h3>\n",
       "   <img src='http://commons.wikimedia.org/wiki/Special:FilePath/Boris_Akunin_2012.jpg?width=300'/><ul><li><h2>Azazel (powieść)</h2> <h3>1998</h3></li></ul><ul><li><h2>Dekorator</h2> <h3>1998</h3></li></ul><ul><li><h2>Diamentowa karoca</h2> <h3>2003</h3></li></ul><ul><li><h2>Gambit turecki</h2> <h3>1998</h3></li></ul><ul><li><h2>Kochanek Śmierci</h2> <h3>2001</h3></li></ul><ul><li><h2>Kochanka Śmierci</h2> <h3>2001</h3></li></ul><ul><li><h2>Koronacja (powieść)</h2> <h3>1999</h3></li></ul><ul><li><h2>Lewiatan (powieść)</h2> <h3>1998</h3></li></ul><ul><li><h2>Radca stanu (powieść)</h2> <h3>1998</h3></li></ul><ul><li><h2>Walet pikowy (powieść)</h2> <h3>1998</h3></li></ul><ul><li><h2>Śmierć Achillesa</h2> <h3>1998</h3></li></ul><h1>Janusz Zajdel</h1>\n",
       "   <h3>1938-08-15 1985-07-19</h3>\n",
       "   <img src='http://commons.wikimedia.org/wiki/Special:FilePath/Janusz_A_Zajdel.jpg?width=300'/><ul><li><h2>Cała prawda o planecie Ksi</h2> <h3>1983</h3></li></ul><h1>Jan Paweł II</h1>\n",
       "   <h3>1920-05-18 2005-04-02</h3>\n",
       "   <img src='http://commons.wikimedia.org/wiki/Special:FilePath/John_Paul_II_Medal_of_Freedom_2004.jpg?width=300'/><ul><li><h2>Dives in misericordia</h2> <h3>1980</h3></li></ul><ul><li><h2>Slavorum apostoli</h2> <h3>1985</h3></li></ul><ul><li><h2>Ut unum sint</h2> <h3>1995</h3></li></ul><ul><li><h2>Veritatis splendor</h2> <h3>1993</h3></li></ul><h1>Isaac Asimov</h1>\n",
       "   <h3>1919-10-04 1992-04-06</h3>\n",
       "   <img src='http://commons.wikimedia.org/wiki/Special:FilePath/Isaac.Asimov01.jpg?width=300'/><ul><li><h2>Druga Fundacja</h2> <h3>1953</h3></li></ul><ul><li><h2>Fundacja (powieść)</h2> <h3>1951</h3></li></ul><ul><li><h2>Fundacja i Imperium</h2> <h3>1952</h3></li></ul><ul><li><h2>Preludium Fundacji</h2> <h3>1988</h3></li></ul><h1>Ilja Ilf</h1>\n",
       "   <h3>1897-10-15 1937-04-13</h3>\n",
       "   <img src='http://commons.wikimedia.org/wiki/Special:FilePath/Ilya_Ilf.jpg?width=300'/><ul><li><h2>Dwanaście krzeseł</h2> <h3>1928</h3></li></ul><h1>Jewgienij Pietrow (pisarz)</h1>\n",
       "   <h3>1903-12-13 1942-07-02</h3>\n",
       "   <img src='http://commons.wikimedia.org/wiki/Special:FilePath/Yevgeny_Petrov.jpg?width=300'/><h1>Gabriela Zapolska</h1>\n",
       "   <h3>1857-03-30 1921-12-17</h3>\n",
       "   <img src='http://commons.wikimedia.org/wiki/Special:FilePath/Gabriela_Zapolska.PNG?width=300'/><ul><li><h2>Ich czworo</h2> <h3>1907</h3></li></ul><h1>Jeffery Deaver</h1>\n",
       "   <h3>1950-05-06 </h3>\n",
       "   <img src='http://commons.wikimedia.org/wiki/Special:FilePath/Jeffery_Deaver_October_2006.jpg?width=300'/><ul><li><h2>Kamienna małpa</h2> <h3>2002</h3></li></ul><ul><li><h2>Mag (powieść J. Deavera)</h2> <h3>2003</h3></li></ul><h1>Terry Pratchett</h1>\n",
       "   <h3>1948-04-28 </h3>\n",
       "   <img src='http://commons.wikimedia.org/wiki/Special:FilePath/Terry_Pratchett,_September_2009_1.jpg?width=300'/><ul><li><h2>Kot w stanie czystym</h2> <h3>1989</h3></li></ul><h1>Clive Staples Lewis</h1>\n",
       "   <h3>1898-11-29 1963-11-22</h3>\n",
       "   <img src='http://commons.wikimedia.org/wiki/Special:FilePath/Statue_of_C.S._Lewis,_Belfast.jpg?width=300'/><ul><li><h2>Koń i jego chłopiec</h2> <h3>1954</h3></li></ul><h1>Andrzej Pilipiuk</h1>\n",
       "   <h3>1974-03-20 </h3>\n",
       "   <img src='http://commons.wikimedia.org/wiki/Special:FilePath/Andrzej_Pilipiuk-Polcon2006.jpg?width=300'/><ul><li><h2>Kuzynki</h2> <h3>2003</h3></li></ul><h1>Ursula K. Le Guin</h1>\n",
       "   <h3>1929-10-21 </h3>\n",
       "   <img src='http://commons.wikimedia.org/wiki/Special:FilePath/UrsulaLeGuin.01.jpg?width=300'/><ul><li><h2>Lewa ręka ciemności</h2> <h3>1969</h3></li></ul><ul><li><h2>Czarnoksiężnik z Archipelagu</h2> <h3>1968</h3></li></ul><h1>Iwan Turgieniew</h1>\n",
       "   <h3>1818-11-09 1883-09-03</h3>\n",
       "   <img src='http://commons.wikimedia.org/wiki/Special:FilePath/Turgenev_by_Repin.jpg?width=300'/><ul><li><h2>Ojcowie i dzieci</h2> <h3>0</h3></li></ul><h1>George R. R. Martin</h1>\n",
       "   <h3>1948-09-20 </h3>\n",
       "   <img src='http://commons.wikimedia.org/wiki/Special:FilePath/George_R_R_Martin_2011_Shankbone.JPG?width=300'/><ul><li><h2>Pieśń Lodu i Ognia</h2> <h3>1996</h3></li></ul><h1>Ryszard Kapuściński</h1>\n",
       "   <h3>1932-03-04 2007-01-23</h3>\n",
       "   <img src='http://commons.wikimedia.org/wiki/Special:FilePath/Ryszard_Kapuscinski_by_Kubik_17.05.1997_-_cropped.jpg?width=300'/><ul><li><h2>Podróże z Herodotem</h2> <h3>2004</h3></li></ul><h1>Lucy Maud Montgomery</h1>\n",
       "   <h3>1874-11-30 1942-04-24</h3>\n",
       "   <img src='http://commons.wikimedia.org/wiki/Special:FilePath/Lucy_Maud_Montgomery.JPG?width=300'/><ul><li><h2>Rilla ze Złotego Brzegu</h2> <h3>1921</h3></li></ul><h1>Dorota Terakowska</h1>\n",
       "   <h3>1938-08-30 2004-01-04</h3>\n",
       "   <img src='http://commons.wikimedia.org/wiki/Special:FilePath/Dorota_Terakowska_grob.jpg?width=300'/><ul><li><h2>Tam gdzie spadają anioły</h2> <h3>1998</h3></li></ul><h1>Alfred Szklarski</h1>\n",
       "   <h3>1912-01-21 1992-04-09</h3>\n",
       "   <img src='http://commons.wikimedia.org/wiki/Special:FilePath/Katowice_-_pomnik_Alfred_Szklarski.JPG?width=300'/><ul><li><h2>Tomek u źródeł Amazonki</h2> <h3>1967</h3></li></ul><ul><li><h2>Tomek w Gran Chaco</h2> <h3>1987</h3></li></ul><ul><li><h2>Tomek w grobowcach faraonów</h2> <h3>1994</h3></li></ul><h1>Adam Zelga</h1>\n",
       "   <h3>1953-03-11 </h3>\n",
       "   <img src=''/><h1>Rafał A. Ziemkiewicz</h1>\n",
       "   <h3>1964-09-13 </h3>\n",
       "   <img src='http://commons.wikimedia.org/wiki/Special:FilePath/Rafał_Ziemkiewicz.jpg?width=300'/><ul><li><h2>Walc stulecia</h2> <h3>1998</h3></li></ul><h1>Anne Rice</h1>\n",
       "   <h3>1941-10-04 </h3>\n",
       "   <img src='http://commons.wikimedia.org/wiki/Special:FilePath/Anne_Rice.jpg?width=300'/><ul><li><h2>Wampir Lestat</h2> <h3>1985</h3></li></ul><h1>Aleksander Majkowski</h1>\n",
       "   <h3>1876-07-17 1938-02-10</h3>\n",
       "   <img src='http://commons.wikimedia.org/wiki/Special:FilePath/POL_Polonia_Restituta_Oficerski_BAR.svg?width=300'/><ul><li><h2>Życie i przygody Remusa</h2> <h3>1938</h3></li></ul><h1>Ian Fleming</h1>\n",
       "   <h3>1908-05-28 1964-08-12</h3>\n",
       "   <img src='http://commons.wikimedia.org/wiki/Special:FilePath/For_Your_Eyes_Only.jpg?width=300'/><ul><li><h2>Casino Royale (powieść)</h2> <h3>1953</h3></li></ul><h1>Gene Wolfe</h1>\n",
       "   <h3>1931-05-07 </h3>\n",
       "   <img src='http://commons.wikimedia.org/wiki/Special:FilePath/Gene_Wolfe,_2005.png?width=300'/><ul><li><h2>Cień kata</h2> <h3>1980</h3></li></ul><h1>Paulo Coelho</h1>\n",
       "   <h3>1947-08-24 </h3>\n",
       "   <img src='http://commons.wikimedia.org/wiki/Special:FilePath/Paulo_Coelho_nrkbeta.jpg?width=300'/><ul><li><h2>Czarownica z Portobello</h2> <h3>2006</h3></li></ul><h1>Tom Clancy</h1>\n",
       "   <h3>1947-04-12 2013-10-01</h3>\n",
       "   <img src='http://commons.wikimedia.org/wiki/Special:FilePath/Tom_Clancy_at_Burns_Library_cropped.jpg?width=300'/><ul><li><h2>Czas patriotów (powieść)</h2> <h3>1987</h3></li></ul>"
      ],
      "text/plain": [
       "\"<h1>Adam Mickiewicz</h1>\\n   <h3>1798-12-24 1855-11-26</h3>\\n   <img src=''/><ul><li><h2>Księgi narodu polskiego i pielgrzymstwa polskiego</h2> <h3>1832</h3></li></ul><h1>Juliusz Słowacki</h1>\\n   <h3>1809-09-04 1849-04-03</h3>\\n   <img src=''/><h1>Henryk Sienkiewicz</h1>\\n   <h3>1846-05-05 1916-11-15</h3>\\n   <img src=''/><ul><li><h2>Krzyżacy (powieść)</h2> <h3>1900</h3></li></ul><ul><li><h2>Ogniem i mieczem</h2> <h3>1884</h3></li></ul><ul><li><h2>Quo vadis</h2> <h3>1896</h3></li></ul><h1>Eliza Orzeszkowa</h1>\\n   <h3>1841-06-06 1910-05-18</h3>\\n   <img src=''/><ul><li><h2>Nad Niemnem</h2> <h3>1888</h3></li></ul><h1>Orson Scott Card</h1>\\n   <h3>1951-08-24 </h3>\\n   <img src='http://commons.wikimedia.org/wiki/Special:FilePath/Orson_Scott_Card_at_BYU_Symposium_20080216_closeup.jpg?width=300'/><ul><li><h2>Végjáték (regény)</h2> <h3></h3></li></ul><h1>Andrzej Sapkowski</h1>\\n   <h3>1948-06-21 </h3>\\n   <img src='http://commons.wikimedia.org/wiki/Special:FilePath/Sapkowski.jpg?width=300'/><ul><li><h2>Pani Jeziora (powieść)</h2> <h3>1999</h3></li></ul><h1>Jack London</h1>\\n   <h3>1876-01-12 1916-11-22</h3>\\n   <img src='http://commons.wikimedia.org/wiki/Special:FilePath/JackLondon02.jpeg?width=300'/><ul><li><h2>Bellew Zawierucha</h2> <h3>1912</h3></li></ul><h1>Henning Mankell</h1>\\n   <h3>1948-02-03 </h3>\\n   <img src='http://commons.wikimedia.org/wiki/Special:FilePath/Henning_Mankell_3_2011_Shankbone.jpg?width=300'/><ul><li><h2>Fałszywy trop (powieść)</h2> <h3>1995</h3></li></ul><h1>Stanisław Lem</h1>\\n   <h3>1921-09-12 2006-03-27</h3>\\n   <img src='http://commons.wikimedia.org/wiki/Special:FilePath/Stanislaw_Lem_2.jpg?width=300'/><ul><li><h2>Bajki robotów</h2> <h3>1964</h3></li></ul><ul><li><h2>Solaris (powieść)</h2> <h3>1961</h3></li></ul><ul><li><h2>Bezsenność (zbiór opowiadań)</h2> <h3>1971</h3></li></ul><ul><li><h2>Głos Pana</h2> <h3>1968</h3></li></ul><ul><li><h2>Inwazja z Aldebarana (zbiór opowiadań)</h2> <h3>1959</h3></li></ul><ul><li><h2>Katar (powieść)</h2> <h3>1976</h3></li></ul><ul><li><h2>Księga robotów</h2> <h3>1961</h3></li></ul><ul><li><h2>Maska (zbiór dzieł)</h2> <h3>1976</h3></li></ul><ul><li><h2>Niezwyciężony i inne opowiadania</h2> <h3>1964</h3></li></ul><ul><li><h2>Noc księżycowa</h2> <h3>1963</h3></li></ul><ul><li><h2>Pamiętnik znaleziony w wannie</h2> <h3>1961</h3></li></ul><ul><li><h2>Polowanie (zbiór opowiadań)</h2> <h3>1965</h3></li></ul><ul><li><h2>Powtórka (zbiór dzieł)</h2> <h3>1979</h3></li></ul><ul><li><h2>Pożytek ze smoka</h2> <h3>1993</h3></li></ul><ul><li><h2>Rasa drapieżców. Teksty ostatnie</h2> <h3>2006</h3></li></ul><ul><li><h2>Sezam i inne opowiadania</h2> <h3>1954</h3></li></ul><ul><li><h2>Summa technologiae</h2> <h3>1964</h3></li></ul><ul><li><h2>Wizja lokalna (powieść)</h2> <h3>1982</h3></li></ul><h1>Antoni Gołubiew</h1>\\n   <h3>1907-02-25 1979-06-27</h3>\\n   <img src='http://commons.wikimedia.org/wiki/Special:FilePath/Antoni_Golubiew.jpg?width=300'/><ul><li><h2>Bolesław Chrobry (powieść)</h2> <h3>1947</h3></li></ul><h1>Mikołaj Kopernik</h1>\\n   <h3>1473-02-19 1543-05-24</h3>\\n   <img src='http://commons.wikimedia.org/wiki/Special:FilePath/Nikolaus_Kopernikus.jpg?width=300'/><ul><li><h2>De revolutionibus orbium coelestium</h2> <h3>1543</h3></li></ul><h1>Maria Franciszka Kozłowska</h1>\\n   <h3>1862-05-27 </h3>\\n   <img src='http://commons.wikimedia.org/wiki/Special:FilePath/Mateczk_Kozłowska.JPG?width=300'/><ul><li><h2>Dzieło Wielkiego Miłosierdzia</h2> <h3>1922</h3></li></ul><h1>George Orwell</h1>\\n   <h3>1903-06-25 1950-01-21</h3>\\n   <img src='http://commons.wikimedia.org/wiki/Special:FilePath/GeoreOrwell.jpg?width=300'/><ul><li><h2>Folwark zwierzęcy</h2> <h3>1945</h3></li></ul><ul><li><h2>Droga na molo w Wigan</h2> <h3>1937</h3></li></ul><h1>William Szekspir</h1>\\n   <h3>1564-04-23 1616-05-03</h3>\\n   <img src='http://commons.wikimedia.org/wiki/Special:FilePath/Shakespeare.jpg?width=300'/><ul><li><h2>Hamlet</h2> <h3></h3></li></ul><ul><li><h2>Romeo i Julia</h2> <h3>1597</h3></li></ul><ul><li><h2>Sen nocy letniej</h2> <h3>1600</h3></li></ul><h1>J. K. Rowling</h1>\\n   <h3>1965-07-31 </h3>\\n   <img src='http://commons.wikimedia.org/wiki/Special:FilePath/J._K._Rowling_2010.jpg?width=300'/><ul><li><h2>Harry Potter</h2> <h3>1997</h3></li></ul><h1>John Ronald Reuel Tolkien</h1>\\n   <h3>1892-01-03 1973-09-02</h3>\\n   <img src='http://commons.wikimedia.org/wiki/Special:FilePath/Tolkien_1916.jpg?width=300'/><ul><li><h2>Hobbit, czyli tam i z powrotem</h2> <h3>1937</h3></li></ul><ul><li><h2>Silmarillion</h2> <h3>1977</h3></li></ul><ul><li><h2>Władca Pierścieni</h2> <h3>1954</h3></li></ul><h1>Aleksander Dumas (ojciec)</h1>\\n   <h3>1802-07-24 1870-12-05</h3>\\n   <img src='http://commons.wikimedia.org/wiki/Special:FilePath/Dumas_by_Nadar,_1855.jpg?width=300'/><ul><li><h2>Hrabia Monte Christo</h2> <h3>1844</h3></li></ul><h1>Tadeusz Dołęga-Mostowicz</h1>\\n   <h3>1898-08-10 1939-09-20</h3>\\n   <img src='http://commons.wikimedia.org/wiki/Special:FilePath/Tadeusz_Dolega-Mostowicz.jpg?width=300'/><ul><li><h2>Kariera Nikodema Dyzmy</h2> <h3>1932</h3></li></ul><h1>Vladimir Nabokov</h1>\\n   <h3>1899-04-22 1977-07-02</h3>\\n   <img src='http://commons.wikimedia.org/wiki/Special:FilePath/Monument_Nabokov_Montreux_23.12.2006.jpg?width=300'/><ul><li><h2>Lolita</h2> <h3>1955</h3></li></ul><h1>Adolf Hitler</h1>\\n   <h3>1889-04-20 1945-04-30</h3>\\n   <img src='http://commons.wikimedia.org/wiki/Special:FilePath/Hitler_portrait_crop.jpg?width=300'/><ul><li><h2>Mein Kampf</h2> <h3>1925</h3></li></ul><h1>Christopher Tolkien</h1>\\n   <h3>1924-11-21 </h3>\\n   <img src=''/><ul><li><h2>Niedokończone opowieści</h2> <h3>1980</h3></li></ul><h1>Benedykt Chmielowski</h1>\\n   <h3>1700-03-20 1763-04-07</h3>\\n   <img src='http://commons.wikimedia.org/wiki/Special:FilePath/POL_COA_Nałęcz.svg?width=300'/><ul><li><h2>Nowe Ateny</h2> <h3>1745</h3></li></ul><h1>Aldous Huxley</h1>\\n   <h3>1894-07-26 1963-11-22</h3>\\n   <img src='http://commons.wikimedia.org/wiki/Special:FilePath/Aldous_Huxley.JPG?width=300'/><ul><li><h2>Nowy wspaniały świat</h2> <h3>1932</h3></li></ul><h1>Honoré de Balzac</h1>\\n   <h3>1799-05-20 1850-08-18</h3>\\n   <img src='http://commons.wikimedia.org/wiki/Special:FilePath/HBalzac.jpg?width=300'/><ul><li><h2>Ojciec Goriot</h2> <h3>1835</h3></li></ul><h1>Franz Kafka</h1>\\n   <h3>1883-07-03 1924-06-03</h3>\\n   <img src='http://commons.wikimedia.org/wiki/Special:FilePath/Kafka1906.jpg?width=300'/><ul><li><h2>Proces (powieść)</h2> <h3>1925</h3></li></ul><h1>Jan Kochanowski</h1>\\n   <h3> 1584-08-22</h3>\\n   <img src='http://commons.wikimedia.org/wiki/Special:FilePath/Jan_Kochanowski.png?width=300'/><ul><li><h2>Psałterz Dawidów</h2> <h3>1579</h3></li></ul><h1>Howard Phillips Lovecraft</h1>\\n   <h3>1890-08-20 1937-03-15</h3>\\n   <img src='http://commons.wikimedia.org/wiki/Special:FilePath/Howard_Phillips_Lovecraft_in_1915.jpg?width=300'/><ul><li><h2>Zew Cthulhu (opowiadanie)</h2> <h3>1928</h3></li></ul><h1>Karol Olgierd Borchardt</h1>\\n   <h3>1905-03-25 1986-05-20</h3>\\n   <img src='http://commons.wikimedia.org/wiki/Special:FilePath/Karol_Olgierd_Borchardt's_house_in_Gdynia.jpg?width=300'/><ul><li><h2>Znaczy Kapitan</h2> <h3>1960</h3></li></ul><h1>Lew Tołstoj</h1>\\n   <h3>1828-09-09 1910-11-20</h3>\\n   <img src='http://commons.wikimedia.org/wiki/Special:FilePath/Ilya_Efimovich_Repin_(1844-1930)_-_Portrait_of_Leo_Tolstoy_(1887).jpg?width=300'/><ul><li><h2>Anna Karenina</h2> <h3>1877</h3></li></ul><ul><li><h2>Wojna i pokój</h2> <h3>1865</h3></li></ul><h1>Boris Akunin</h1>\\n   <h3>1956-05-20 </h3>\\n   <img src='http://commons.wikimedia.org/wiki/Special:FilePath/Boris_Akunin_2012.jpg?width=300'/><ul><li><h2>Azazel (powieść)</h2> <h3>1998</h3></li></ul><ul><li><h2>Dekorator</h2> <h3>1998</h3></li></ul><ul><li><h2>Diamentowa karoca</h2> <h3>2003</h3></li></ul><ul><li><h2>Gambit turecki</h2> <h3>1998</h3></li></ul><ul><li><h2>Kochanek Śmierci</h2> <h3>2001</h3></li></ul><ul><li><h2>Kochanka Śmierci</h2> <h3>2001</h3></li></ul><ul><li><h2>Koronacja (powieść)</h2> <h3>1999</h3></li></ul><ul><li><h2>Lewiatan (powieść)</h2> <h3>1998</h3></li></ul><ul><li><h2>Radca stanu (powieść)</h2> <h3>1998</h3></li></ul><ul><li><h2>Walet pikowy (powieść)</h2> <h3>1998</h3></li></ul><ul><li><h2>Śmierć Achillesa</h2> <h3>1998</h3></li></ul><h1>Janusz Zajdel</h1>\\n   <h3>1938-08-15 1985-07-19</h3>\\n   <img src='http://commons.wikimedia.org/wiki/Special:FilePath/Janusz_A_Zajdel.jpg?width=300'/><ul><li><h2>Cała prawda o planecie Ksi</h2> <h3>1983</h3></li></ul><h1>Jan Paweł II</h1>\\n   <h3>1920-05-18 2005-04-02</h3>\\n   <img src='http://commons.wikimedia.org/wiki/Special:FilePath/John_Paul_II_Medal_of_Freedom_2004.jpg?width=300'/><ul><li><h2>Dives in misericordia</h2> <h3>1980</h3></li></ul><ul><li><h2>Slavorum apostoli</h2> <h3>1985</h3></li></ul><ul><li><h2>Ut unum sint</h2> <h3>1995</h3></li></ul><ul><li><h2>Veritatis splendor</h2> <h3>1993</h3></li></ul><h1>Isaac Asimov</h1>\\n   <h3>1919-10-04 1992-04-06</h3>\\n   <img src='http://commons.wikimedia.org/wiki/Special:FilePath/Isaac.Asimov01.jpg?width=300'/><ul><li><h2>Druga Fundacja</h2> <h3>1953</h3></li></ul><ul><li><h2>Fundacja (powieść)</h2> <h3>1951</h3></li></ul><ul><li><h2>Fundacja i Imperium</h2> <h3>1952</h3></li></ul><ul><li><h2>Preludium Fundacji</h2> <h3>1988</h3></li></ul><h1>Ilja Ilf</h1>\\n   <h3>1897-10-15 1937-04-13</h3>\\n   <img src='http://commons.wikimedia.org/wiki/Special:FilePath/Ilya_Ilf.jpg?width=300'/><ul><li><h2>Dwanaście krzeseł</h2> <h3>1928</h3></li></ul><h1>Jewgienij Pietrow (pisarz)</h1>\\n   <h3>1903-12-13 1942-07-02</h3>\\n   <img src='http://commons.wikimedia.org/wiki/Special:FilePath/Yevgeny_Petrov.jpg?width=300'/><h1>Gabriela Zapolska</h1>\\n   <h3>1857-03-30 1921-12-17</h3>\\n   <img src='http://commons.wikimedia.org/wiki/Special:FilePath/Gabriela_Zapolska.PNG?width=300'/><ul><li><h2>Ich czworo</h2> <h3>1907</h3></li></ul><h1>Jeffery Deaver</h1>\\n   <h3>1950-05-06 </h3>\\n   <img src='http://commons.wikimedia.org/wiki/Special:FilePath/Jeffery_Deaver_October_2006.jpg?width=300'/><ul><li><h2>Kamienna małpa</h2> <h3>2002</h3></li></ul><ul><li><h2>Mag (powieść J. Deavera)</h2> <h3>2003</h3></li></ul><h1>Terry Pratchett</h1>\\n   <h3>1948-04-28 </h3>\\n   <img src='http://commons.wikimedia.org/wiki/Special:FilePath/Terry_Pratchett,_September_2009_1.jpg?width=300'/><ul><li><h2>Kot w stanie czystym</h2> <h3>1989</h3></li></ul><h1>Clive Staples Lewis</h1>\\n   <h3>1898-11-29 1963-11-22</h3>\\n   <img src='http://commons.wikimedia.org/wiki/Special:FilePath/Statue_of_C.S._Lewis,_Belfast.jpg?width=300'/><ul><li><h2>Koń i jego chłopiec</h2> <h3>1954</h3></li></ul><h1>Andrzej Pilipiuk</h1>\\n   <h3>1974-03-20 </h3>\\n   <img src='http://commons.wikimedia.org/wiki/Special:FilePath/Andrzej_Pilipiuk-Polcon2006.jpg?width=300'/><ul><li><h2>Kuzynki</h2> <h3>2003</h3></li></ul><h1>Ursula K. Le Guin</h1>\\n   <h3>1929-10-21 </h3>\\n   <img src='http://commons.wikimedia.org/wiki/Special:FilePath/UrsulaLeGuin.01.jpg?width=300'/><ul><li><h2>Lewa ręka ciemności</h2> <h3>1969</h3></li></ul><ul><li><h2>Czarnoksiężnik z Archipelagu</h2> <h3>1968</h3></li></ul><h1>Iwan Turgieniew</h1>\\n   <h3>1818-11-09 1883-09-03</h3>\\n   <img src='http://commons.wikimedia.org/wiki/Special:FilePath/Turgenev_by_Repin.jpg?width=300'/><ul><li><h2>Ojcowie i dzieci</h2> <h3>0</h3></li></ul><h1>George R. R. Martin</h1>\\n   <h3>1948-09-20 </h3>\\n   <img src='http://commons.wikimedia.org/wiki/Special:FilePath/George_R_R_Martin_2011_Shankbone.JPG?width=300'/><ul><li><h2>Pieśń Lodu i Ognia</h2> <h3>1996</h3></li></ul><h1>Ryszard Kapuściński</h1>\\n   <h3>1932-03-04 2007-01-23</h3>\\n   <img src='http://commons.wikimedia.org/wiki/Special:FilePath/Ryszard_Kapuscinski_by_Kubik_17.05.1997_-_cropped.jpg?width=300'/><ul><li><h2>Podróże z Herodotem</h2> <h3>2004</h3></li></ul><h1>Lucy Maud Montgomery</h1>\\n   <h3>1874-11-30 1942-04-24</h3>\\n   <img src='http://commons.wikimedia.org/wiki/Special:FilePath/Lucy_Maud_Montgomery.JPG?width=300'/><ul><li><h2>Rilla ze Złotego Brzegu</h2> <h3>1921</h3></li></ul><h1>Dorota Terakowska</h1>\\n   <h3>1938-08-30 2004-01-04</h3>\\n   <img src='http://commons.wikimedia.org/wiki/Special:FilePath/Dorota_Terakowska_grob.jpg?width=300'/><ul><li><h2>Tam gdzie spadają anioły</h2> <h3>1998</h3></li></ul><h1>Alfred Szklarski</h1>\\n   <h3>1912-01-21 1992-04-09</h3>\\n   <img src='http://commons.wikimedia.org/wiki/Special:FilePath/Katowice_-_pomnik_Alfred_Szklarski.JPG?width=300'/><ul><li><h2>Tomek u źródeł Amazonki</h2> <h3>1967</h3></li></ul><ul><li><h2>Tomek w Gran Chaco</h2> <h3>1987</h3></li></ul><ul><li><h2>Tomek w grobowcach faraonów</h2> <h3>1994</h3></li></ul><h1>Adam Zelga</h1>\\n   <h3>1953-03-11 </h3>\\n   <img src=''/><h1>Rafał A. Ziemkiewicz</h1>\\n   <h3>1964-09-13 </h3>\\n   <img src='http://commons.wikimedia.org/wiki/Special:FilePath/Rafał_Ziemkiewicz.jpg?width=300'/><ul><li><h2>Walc stulecia</h2> <h3>1998</h3></li></ul><h1>Anne Rice</h1>\\n   <h3>1941-10-04 </h3>\\n   <img src='http://commons.wikimedia.org/wiki/Special:FilePath/Anne_Rice.jpg?width=300'/><ul><li><h2>Wampir Lestat</h2> <h3>1985</h3></li></ul><h1>Aleksander Majkowski</h1>\\n   <h3>1876-07-17 1938-02-10</h3>\\n   <img src='http://commons.wikimedia.org/wiki/Special:FilePath/POL_Polonia_Restituta_Oficerski_BAR.svg?width=300'/><ul><li><h2>Życie i przygody Remusa</h2> <h3>1938</h3></li></ul><h1>Ian Fleming</h1>\\n   <h3>1908-05-28 1964-08-12</h3>\\n   <img src='http://commons.wikimedia.org/wiki/Special:FilePath/For_Your_Eyes_Only.jpg?width=300'/><ul><li><h2>Casino Royale (powieść)</h2> <h3>1953</h3></li></ul><h1>Gene Wolfe</h1>\\n   <h3>1931-05-07 </h3>\\n   <img src='http://commons.wikimedia.org/wiki/Special:FilePath/Gene_Wolfe,_2005.png?width=300'/><ul><li><h2>Cień kata</h2> <h3>1980</h3></li></ul><h1>Paulo Coelho</h1>\\n   <h3>1947-08-24 </h3>\\n   <img src='http://commons.wikimedia.org/wiki/Special:FilePath/Paulo_Coelho_nrkbeta.jpg?width=300'/><ul><li><h2>Czarownica z Portobello</h2> <h3>2006</h3></li></ul><h1>Tom Clancy</h1>\\n   <h3>1947-04-12 2013-10-01</h3>\\n   <img src='http://commons.wikimedia.org/wiki/Special:FilePath/Tom_Clancy_at_Burns_Library_cropped.jpg?width=300'/><ul><li><h2>Czas patriotów (powieść)</h2> <h3>1987</h3></li></ul>\""
      ]
     },
     "execution_count": 40,
     "metadata": {},
     "output_type": "execute_result"
    }
   ],
   "source": [
    "def display_author(author)\n",
    "  \"<h1>#{author.name} #{author.surname}</h1>\n",
    "   <h3>#{author.born} #{author.died}</h3>\n",
    "   <img src='#{author.image_url}'/>\" + display_books(author)\n",
    "end\n",
    "\n",
    "def display_authors(authors)\n",
    "  zmienna = \"\"\n",
    "  authors.each do |author|\n",
    "    zmienna << display_author(author)\n",
    "  end\n",
    "  return zmienna\n",
    "end\n",
    "\n",
    "def display_books(author)\n",
    "  zmienna_2 = \"\"\n",
    "  author.books.each do |book|\n",
    "    zmienna_2 << \"<ul><li><h2>#{book.title}</h2> <h3>#{book.published}</h3></li></ul>\"\n",
    "  end\n",
    "  return zmienna_2\n",
    "end\n",
    "\n",
    "authors = Author.all\n",
    "\n",
    "document = display_authors(authors)\n",
    "IRuby.html document"
   ]
  },
  {
   "cell_type": "code",
   "execution_count": null,
   "metadata": {
    "collapsed": true
   },
   "outputs": [],
   "source": []
  }
 ],
 "metadata": {
  "kernelspec": {
   "display_name": "Ruby 2.2.3",
   "language": "ruby",
   "name": "ruby"
  },
  "language_info": {
   "file_extension": ".rb",
   "mimetype": "application/x-ruby",
   "name": "ruby",
   "version": "2.2.3"
  }
 },
 "nbformat": 4,
 "nbformat_minor": 0
}
